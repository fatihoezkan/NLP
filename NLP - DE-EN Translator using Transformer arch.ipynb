{
 "cells": [
  {
   "cell_type": "markdown",
   "id": "09f79f88",
   "metadata": {},
   "source": [
    "### Question 1: Transformer model"
   ]
  },
  {
   "cell_type": "markdown",
   "id": "23bd0c1a",
   "metadata": {},
   "source": [
    "As a Machine Learning engineer at a tech company, you were given a task to develop a machine translation system that translates **English (source) to German (Target)**. You can use existing libraries but the training needs to be done from scratch (usage of pretrained weights is not allowed). You have the freedom to select any dataset for training the model. Use a small subset of data as a validation dataset and report the BLEU score on the validation set. Also, provide a short description of your transformer model architecture, hyperparameters, and training (also provide the training loss curve)."
   ]
  },
  {
   "cell_type": "markdown",
   "id": "97a4d2da",
   "metadata": {},
   "source": [
    "**Dataset**\n",
    "\n",
    "Here are some of the parallel datasets (see Datasets and Resources file):\n",
    "* Europarl Parallel corpus - https://www.statmt.org/europarl/v7/de-en.tgz\n",
    "* News Commentary - https://www.statmt.org/wmt14/training-parallel-nc-v9.tgz (use DE-EN parallel data)\n",
    "* Common Crawl corpus - https://www.statmt.org/wmt13/training-parallel-commoncrawl.tgz (use DE-EN parallel data)\n",
    "\n",
    "You can also use other datasets of your choice. In the above datasets, **'.en'** file has the text in English, and **'.de'** file contains their corresponding German translations."
   ]
  },
  {
   "cell_type": "markdown",
   "id": "4f05905b",
   "metadata": {},
   "source": [
    "## Notes:\n",
    "\n",
    "1) You can also consider using a small subset of the dataset if the training dataset is large\n",
    "2) Sometimes you can also get out of memory errors while training, so choose the hyperparameters carefully.\n",
    "3) Your training will be much faster if you use a GPU. If you are using a CPU, it may take several hours or even days. (you can also use Google Colab GPUs for training. link: https://colab.research.google.com/)"
   ]
  },
  {
   "cell_type": "code",
   "execution_count": 1,
   "id": "b34a17c9",
   "metadata": {},
   "outputs": [
    {
     "name": "stdout",
     "output_type": "stream",
     "text": [
      "mps\n"
     ]
    }
   ],
   "source": [
    "import torch\n",
    "\n",
    "device = torch.device('mps') if torch.backends.mps.is_available() else torch.device('cpu')\n",
    "print(device)"
   ]
  },
  {
   "cell_type": "code",
   "execution_count": 2,
   "id": "4b56e26a",
   "metadata": {},
   "outputs": [
    {
     "name": "stdout",
     "output_type": "stream",
     "text": [
      "1920209\n",
      "<class 'list'>\n",
      "1920209\n",
      "<class 'list'>\n",
      "Adjournment of the session\n",
      "\n",
      "Unterbrechung der Sitzungsperiode\n",
      "\n"
     ]
    }
   ],
   "source": [
    "#check the data\n",
    "import pandas as pd\n",
    "\n",
    "path_de = 'train_dataset/Europarl/europarl-v7.de-en.de'\n",
    "data_de = open(path_de)\n",
    "data_de = data_de.readlines()\n",
    "print(len(data_de))\n",
    "print(type(data_de))\n",
    "\n",
    "\n",
    "path_en = 'train_dataset/Europarl/europarl-v7.de-en.en'\n",
    "data_en = open(path_en)\n",
    "data_en = data_en.readlines()\n",
    "print(len(data_en))\n",
    "print(type(data_en))\n",
    "\n",
    "print(data_en[-3])\n",
    "print(data_de[-3])\n",
    "\n",
    "#looks good"
   ]
  },
  {
   "cell_type": "code",
   "execution_count": 3,
   "id": "86eed57b",
   "metadata": {},
   "outputs": [
    {
     "name": "stderr",
     "output_type": "stream",
     "text": [
      "/var/folders/n2/v7krv3hd7f9_j02wpl4_74000000gn/T/ipykernel_16318/2103288745.py:12: UserWarning: 'has_mps' is deprecated, please use 'torch.backends.mps.is_built()'\n",
      "  device = torch.device('mps' if torch.has_mps else 'cpu')\n",
      "You are using the default legacy behaviour of the <class 'transformers.models.t5.tokenization_t5.T5Tokenizer'>. This is expected, and simply means that the `legacy` (previous) behavior will be used so nothing changes for you. If you want to use the new behaviour, set `legacy=False`. This should only be set if you understand what it means, and thoroughly read the reason why this was added as explained in https://github.com/huggingface/transformers/pull/24565\n"
     ]
    },
    {
     "name": "stdout",
     "output_type": "stream",
     "text": [
      "mps\n"
     ]
    },
    {
     "name": "stderr",
     "output_type": "stream",
     "text": [
      "Special tokens have been added in the vocabulary, make sure the associated word embeddings are fine-tuned or trained.\n",
      "/opt/anaconda3/lib/python3.11/site-packages/huggingface_hub/file_download.py:1132: FutureWarning: `resume_download` is deprecated and will be removed in version 1.0.0. Downloads always resume when possible. If you want to force a new download, use `force_download=True`.\n",
      "  warnings.warn(\n"
     ]
    }
   ],
   "source": [
    "import torch\n",
    "from transformers import T5Tokenizer, T5Config, T5ForConditionalGeneration\n",
    "from torch.optim import AdamW\n",
    "from torch.utils.data import DataLoader, Dataset\n",
    "from sklearn.model_selection import train_test_split\n",
    "import matplotlib.pyplot as plt\n",
    "from tqdm import tqdm\n",
    "import os\n",
    "from nltk.translate.bleu_score import sentence_bleu, SmoothingFunction\n",
    "\n",
    "# Set device\n",
    "device = torch.device('mps' if torch.has_mps else 'cpu')\n",
    "print(device)\n",
    "\n",
    "# Load T5 tokenizer\n",
    "model_name = 't5-small'\n",
    "tokenizer = T5Tokenizer.from_pretrained(model_name)\n",
    "\n",
    "# Initialize T5 model from scratch\n",
    "config = T5Config.from_pretrained(model_name)\n",
    "model = T5ForConditionalGeneration(config).to(device)\n",
    "\n",
    "# Function to initialize weights\n",
    "def initialize_weights(module):\n",
    "    if isinstance(module, torch.nn.Linear):\n",
    "        torch.nn.init.xavier_uniform_(module.weight)\n",
    "        if module.bias is not None:\n",
    "            torch.nn.init.zeros_(module.bias)\n",
    "    elif isinstance(module, torch.nn.Embedding):\n",
    "        torch.nn.init.xavier_uniform_(module.weight)\n",
    "    elif isinstance(module, torch.nn.LayerNorm):\n",
    "        torch.nn.init.ones_(module.weight)\n",
    "        torch.nn.init.zeros_(module.bias)\n",
    "\n",
    "# Apply the weights initialization\n",
    "model.apply(initialize_weights)\n",
    "\n",
    "# Read data\n",
    "path_de = 'train_dataset/Europarl/europarl-v7.de-en.de'\n",
    "path_en = 'train_dataset/Europarl/europarl-v7.de-en.en'\n",
    "\n",
    "with open(path_de, 'r', encoding='utf-8') as f:\n",
    "    data_de = f.readlines()\n",
    "\n",
    "with open(path_en, 'r', encoding='utf-8') as f:\n",
    "    data_en = f.readlines()\n",
    "\n",
    "# Prepare data\n",
    "class TranslationDataset(Dataset):\n",
    "    def __init__(self, src_texts, tgt_texts, tokenizer, max_len=128):\n",
    "        self.src_texts = src_texts\n",
    "        self.tgt_texts = tgt_texts\n",
    "        self.tokenizer = tokenizer\n",
    "        self.max_len = max_len\n",
    "\n",
    "    def __len__(self):\n",
    "        return len(self.src_texts)\n",
    "\n",
    "    def __getitem__(self, idx):\n",
    "        src_text = self.src_texts[idx]\n",
    "        tgt_text = self.tgt_texts[idx]\n",
    "\n",
    "        src_encoding = self.tokenizer(\n",
    "            src_text, max_length=self.max_len, padding=\"max_length\", truncation=True, return_tensors=\"pt\"\n",
    "        )\n",
    "        tgt_encoding = self.tokenizer(\n",
    "            tgt_text, max_length=self.max_len, padding=\"max_length\", truncation=True, return_tensors=\"pt\"\n",
    "        )\n",
    "\n",
    "        labels = tgt_encoding.input_ids\n",
    "        labels[labels == self.tokenizer.pad_token_id] = -100  # Ignore padding tokens in the loss\n",
    "\n",
    "        return {\n",
    "            'input_ids': src_encoding.input_ids.flatten(),\n",
    "            'attention_mask': src_encoding.attention_mask.flatten(),\n",
    "            'labels': labels.flatten()\n",
    "        }\n",
    "\n",
    "torch.backends.mps.is_built()\n",
    "\n",
    "# Split data into train and validation sets\n",
    "src_train, src_val, tgt_train, tgt_val = train_test_split(data_en, data_de, test_size=0.1, random_state=42)\n",
    "\n",
    "train_dataset = TranslationDataset(src_train, tgt_train, tokenizer)\n",
    "val_dataset = TranslationDataset(src_val, tgt_val, tokenizer)\n",
    "\n",
    "train_loader = DataLoader(train_dataset, batch_size=32, shuffle=True)\n",
    "val_loader = DataLoader(val_dataset, batch_size=32)"
   ]
  },
  {
   "cell_type": "code",
   "execution_count": 4,
   "id": "2c50da28",
   "metadata": {},
   "outputs": [],
   "source": [
    "# Training function\n",
    "def train_model(model, train_loader, val_loader, epochs, learning_rate, checkpoint_dir):\n",
    "    optimizer = AdamW(model.parameters(), lr=learning_rate)\n",
    "    model.train()\n",
    "    loss_values = []\n",
    "\n",
    "    for epoch in range(epochs):\n",
    "        total_loss = 0\n",
    "        model.train()\n",
    "        with tqdm(total=len(train_loader), desc=f'Epoch {epoch+1}/{epochs}') as pbar:\n",
    "            for batch in train_loader:\n",
    "                optimizer.zero_grad()\n",
    "                input_ids = batch['input_ids'].to(device)\n",
    "                attention_mask = batch['attention_mask'].to(device)\n",
    "                labels = batch['labels'].to(device)\n",
    "\n",
    "                outputs = model(input_ids=input_ids, attention_mask=attention_mask, labels=labels)\n",
    "                loss = outputs.loss\n",
    "                loss.backward()\n",
    "                optimizer.step()\n",
    "\n",
    "                total_loss += loss.item()\n",
    "                pbar.update(1)\n",
    "\n",
    "        avg_loss = total_loss / len(train_loader)\n",
    "        loss_values.append(avg_loss)\n",
    "        print(f'Epoch {epoch+1}/{epochs}, Loss: {avg_loss}')\n",
    "\n",
    "        # Save checkpoint\n",
    "        if not os.path.exists(checkpoint_dir):\n",
    "            os.makedirs(checkpoint_dir)\n",
    "        checkpoint_path = os.path.join(checkpoint_dir, f't5_model_epoch_{epoch+1}_loss_{avg_loss:.4f}.pt')\n",
    "        torch.save(model.state_dict(), checkpoint_path)\n",
    "        print(f'Checkpoint saved at {checkpoint_path}')\n",
    "\n",
    "    return loss_values\n",
    "\n",
    "\n",
    "\n",
    "# Evaluation function\n",
    "def evaluate_bleu(model, tokenizer, val_loader):\n",
    "    model.eval()\n",
    "    translations = []\n",
    "    references = []\n",
    "\n",
    "    for batch in val_loader:\n",
    "        input_ids = batch['input_ids'].to(device)\n",
    "        attention_mask = batch['attention_mask'].to(device)\n",
    "        labels = batch['labels'].to(device)\n",
    "\n",
    "        with torch.no_grad():\n",
    "            outputs = model.generate(input_ids=input_ids, attention_mask=attention_mask, max_length=50, num_beams=4, early_stopping=True)\n",
    "            decoded_outputs = [tokenizer.decode(output, skip_special_tokens=True) for output in outputs]\n",
    "            decoded_labels = [tokenizer.decode(label[label != -100], skip_special_tokens=True) for label in labels]\n",
    "\n",
    "        translations.extend(decoded_outputs)\n",
    "        references.extend(decoded_labels)\n",
    "\n",
    "    bleu_scores = []\n",
    "    smoothie = SmoothingFunction().method4\n",
    "    for ref, trans in zip(references, translations):\n",
    "        bleu_score = sentence_bleu([ref.split()], trans.split(), smoothing_function=smoothie)\n",
    "        bleu_scores.append(bleu_score)\n",
    "\n",
    "    avg_bleu_score = sum(bleu_scores) / len(bleu_scores)\n",
    "    return avg_bleu_score\n",
    "\n",
    "\n"
   ]
  },
  {
   "cell_type": "code",
   "execution_count": 15,
   "id": "57b37d35",
   "metadata": {},
   "outputs": [
    {
     "name": "stderr",
     "output_type": "stream",
     "text": [
      "Epoch 1/10: 100%|██████████| 32/32 [00:12<00:00,  2.61it/s]\n"
     ]
    },
    {
     "name": "stdout",
     "output_type": "stream",
     "text": [
      "Epoch 1/10, Loss: 8.043860703706741\n",
      "Checkpoint saved at checkpoints/t5_model_epoch_1_loss_8.0439.pt\n"
     ]
    },
    {
     "name": "stderr",
     "output_type": "stream",
     "text": [
      "Epoch 2/10: 100%|██████████| 32/32 [00:12<00:00,  2.65it/s]\n"
     ]
    },
    {
     "name": "stdout",
     "output_type": "stream",
     "text": [
      "Epoch 2/10, Loss: 6.4487302005290985\n",
      "Checkpoint saved at checkpoints/t5_model_epoch_2_loss_6.4487.pt\n"
     ]
    },
    {
     "name": "stderr",
     "output_type": "stream",
     "text": [
      "Epoch 3/10: 100%|██████████| 32/32 [00:12<00:00,  2.65it/s]\n"
     ]
    },
    {
     "name": "stdout",
     "output_type": "stream",
     "text": [
      "Epoch 3/10, Loss: 6.386889681220055\n",
      "Checkpoint saved at checkpoints/t5_model_epoch_3_loss_6.3869.pt\n"
     ]
    },
    {
     "name": "stderr",
     "output_type": "stream",
     "text": [
      "Epoch 4/10: 100%|██████████| 32/32 [00:12<00:00,  2.64it/s]\n"
     ]
    },
    {
     "name": "stdout",
     "output_type": "stream",
     "text": [
      "Epoch 4/10, Loss: 6.348598003387451\n",
      "Checkpoint saved at checkpoints/t5_model_epoch_4_loss_6.3486.pt\n"
     ]
    },
    {
     "name": "stderr",
     "output_type": "stream",
     "text": [
      "Epoch 5/10: 100%|██████████| 32/32 [00:12<00:00,  2.65it/s]\n"
     ]
    },
    {
     "name": "stdout",
     "output_type": "stream",
     "text": [
      "Epoch 5/10, Loss: 6.309913158416748\n",
      "Checkpoint saved at checkpoints/t5_model_epoch_5_loss_6.3099.pt\n"
     ]
    },
    {
     "name": "stderr",
     "output_type": "stream",
     "text": [
      "Epoch 6/10: 100%|██████████| 32/32 [00:12<00:00,  2.64it/s]\n"
     ]
    },
    {
     "name": "stdout",
     "output_type": "stream",
     "text": [
      "Epoch 6/10, Loss: 6.274297431111336\n",
      "Checkpoint saved at checkpoints/t5_model_epoch_6_loss_6.2743.pt\n"
     ]
    },
    {
     "name": "stderr",
     "output_type": "stream",
     "text": [
      "Epoch 7/10: 100%|██████████| 32/32 [00:12<00:00,  2.62it/s]\n"
     ]
    },
    {
     "name": "stdout",
     "output_type": "stream",
     "text": [
      "Epoch 7/10, Loss: 6.278198689222336\n",
      "Checkpoint saved at checkpoints/t5_model_epoch_7_loss_6.2782.pt\n"
     ]
    },
    {
     "name": "stderr",
     "output_type": "stream",
     "text": [
      "Epoch 8/10: 100%|██████████| 32/32 [00:12<00:00,  2.57it/s]\n"
     ]
    },
    {
     "name": "stdout",
     "output_type": "stream",
     "text": [
      "Epoch 8/10, Loss: 6.235140904784203\n",
      "Checkpoint saved at checkpoints/t5_model_epoch_8_loss_6.2351.pt\n"
     ]
    },
    {
     "name": "stderr",
     "output_type": "stream",
     "text": [
      "Epoch 9/10: 100%|██████████| 32/32 [00:12<00:00,  2.58it/s]\n"
     ]
    },
    {
     "name": "stdout",
     "output_type": "stream",
     "text": [
      "Epoch 9/10, Loss: 6.213334500789642\n",
      "Checkpoint saved at checkpoints/t5_model_epoch_9_loss_6.2133.pt\n"
     ]
    },
    {
     "name": "stderr",
     "output_type": "stream",
     "text": [
      "Epoch 10/10: 100%|██████████| 32/32 [00:12<00:00,  2.60it/s]\n"
     ]
    },
    {
     "name": "stdout",
     "output_type": "stream",
     "text": [
      "Epoch 10/10, Loss: 6.197231963276863\n",
      "Checkpoint saved at checkpoints/t5_model_epoch_10_loss_6.1972.pt\n"
     ]
    },
    {
     "data": {
      "image/png": "[encoded data removed]",
      "text/plain": [
       "<Figure size 1000x500 with 1 Axes>"
      ]
     },
     "metadata": {},
     "output_type": "display_data"
    }
   ],
   "source": [
    "# Train the model with mini subset\n",
    "#create a small dataset to test\n",
    "src_train_small = src_train[:1000]\n",
    "tgt_train_small = tgt_train[:1000]\n",
    "src_val_small = src_val[:100]\n",
    "tgt_val_small = tgt_val[:100]\n",
    "\n",
    "train_dataset_small = TranslationDataset(src_train_small, tgt_train_small, tokenizer)\n",
    "val_dataset_small = TranslationDataset(src_val_small, tgt_val_small, tokenizer)\n",
    "\n",
    "train_loader_small = DataLoader(train_dataset_small, batch_size=32, shuffle=True)\n",
    "val_loader_small = DataLoader(val_dataset_small, batch_size=32)\n",
    "\n",
    "# Train the model\n",
    "epochs = 10\n",
    "learning_rate = 0.005\n",
    "checkpoint_dir = 'checkpoints'\n",
    "loss_values = train_model(model, train_loader_small, val_loader_small, epochs, learning_rate, checkpoint_dir)\n",
    "\n",
    "# Plot training loss\n",
    "plt.figure(figsize=(10, 5))\n",
    "plt.plot(range(1, epochs + 1), loss_values, marker='o', label='Training Loss')\n",
    "plt.xlabel('Epoch')\n",
    "plt.ylabel('Loss')\n",
    "plt.title('Training Loss Over Epochs')\n",
    "plt.legend()\n",
    "plt.grid(True)\n",
    "plt.show()"
   ]
  },
  {
   "cell_type": "code",
   "execution_count": 18,
   "id": "41f34b0d",
   "metadata": {},
   "outputs": [
    {
     "name": "stderr",
     "output_type": "stream",
     "text": [
      "Epoch 1/3: 100%|██████████| 32/32 [00:12<00:00,  2.55it/s]\n"
     ]
    },
    {
     "name": "stdout",
     "output_type": "stream",
     "text": [
      "Epoch 1/3, Loss: 10.096110582351685\n",
      "Checkpoint saved at checkpoints/t5_model_epoch_1_loss_10.0961.pt\n"
     ]
    },
    {
     "name": "stderr",
     "output_type": "stream",
     "text": [
      "Epoch 2/3: 100%|██████████| 32/32 [00:12<00:00,  2.55it/s]\n"
     ]
    },
    {
     "name": "stdout",
     "output_type": "stream",
     "text": [
      "Epoch 2/3, Loss: 9.405233651399612\n",
      "Checkpoint saved at checkpoints/t5_model_epoch_2_loss_9.4052.pt\n"
     ]
    },
    {
     "name": "stderr",
     "output_type": "stream",
     "text": [
      "Epoch 3/3: 100%|██████████| 32/32 [00:12<00:00,  2.53it/s]\n"
     ]
    },
    {
     "name": "stdout",
     "output_type": "stream",
     "text": [
      "Epoch 3/3, Loss: 8.791210412979126\n",
      "Checkpoint saved at checkpoints/t5_model_epoch_3_loss_8.7912.pt\n",
      "Learning Rate: 0.001, Epochs: 3, BLEU Score: 0.0\n"
     ]
    },
    {
     "name": "stderr",
     "output_type": "stream",
     "text": [
      "Epoch 1/5: 100%|██████████| 32/32 [00:12<00:00,  2.48it/s]\n"
     ]
    },
    {
     "name": "stdout",
     "output_type": "stream",
     "text": [
      "Epoch 1/5, Loss: 10.09325161576271\n",
      "Checkpoint saved at checkpoints/t5_model_epoch_1_loss_10.0933.pt\n"
     ]
    },
    {
     "name": "stderr",
     "output_type": "stream",
     "text": [
      "Epoch 2/5: 100%|██████████| 32/32 [00:12<00:00,  2.49it/s]\n"
     ]
    },
    {
     "name": "stdout",
     "output_type": "stream",
     "text": [
      "Epoch 2/5, Loss: 9.395089209079742\n",
      "Checkpoint saved at checkpoints/t5_model_epoch_2_loss_9.3951.pt\n"
     ]
    },
    {
     "name": "stderr",
     "output_type": "stream",
     "text": [
      "Epoch 3/5: 100%|██████████| 32/32 [00:12<00:00,  2.47it/s]\n"
     ]
    },
    {
     "name": "stdout",
     "output_type": "stream",
     "text": [
      "Epoch 3/5, Loss: 8.773031860589981\n",
      "Checkpoint saved at checkpoints/t5_model_epoch_3_loss_8.7730.pt\n"
     ]
    },
    {
     "name": "stderr",
     "output_type": "stream",
     "text": [
      "Epoch 4/5: 100%|██████████| 32/32 [00:12<00:00,  2.49it/s]\n"
     ]
    },
    {
     "name": "stdout",
     "output_type": "stream",
     "text": [
      "Epoch 4/5, Loss: 8.28006798028946\n",
      "Checkpoint saved at checkpoints/t5_model_epoch_4_loss_8.2801.pt\n"
     ]
    },
    {
     "name": "stderr",
     "output_type": "stream",
     "text": [
      "Epoch 5/5: 100%|██████████| 32/32 [00:12<00:00,  2.50it/s]\n"
     ]
    },
    {
     "name": "stdout",
     "output_type": "stream",
     "text": [
      "Epoch 5/5, Loss: 7.885909676551819\n",
      "Checkpoint saved at checkpoints/t5_model_epoch_5_loss_7.8859.pt\n",
      "Learning Rate: 0.001, Epochs: 5, BLEU Score: 0.0031944005473655544\n"
     ]
    },
    {
     "name": "stderr",
     "output_type": "stream",
     "text": [
      "Epoch 1/3: 100%|██████████| 32/32 [00:12<00:00,  2.49it/s]\n"
     ]
    },
    {
     "name": "stdout",
     "output_type": "stream",
     "text": [
      "Epoch 1/3, Loss: 9.170050024986267\n",
      "Checkpoint saved at checkpoints/t5_model_epoch_1_loss_9.1701.pt\n"
     ]
    },
    {
     "name": "stderr",
     "output_type": "stream",
     "text": [
      "Epoch 2/3: 100%|██████████| 32/32 [00:12<00:00,  2.50it/s]\n"
     ]
    },
    {
     "name": "stdout",
     "output_type": "stream",
     "text": [
      "Epoch 2/3, Loss: 7.4246000200510025\n",
      "Checkpoint saved at checkpoints/t5_model_epoch_2_loss_7.4246.pt\n"
     ]
    },
    {
     "name": "stderr",
     "output_type": "stream",
     "text": [
      "Epoch 3/3: 100%|██████████| 32/32 [00:12<00:00,  2.50it/s]\n"
     ]
    },
    {
     "name": "stdout",
     "output_type": "stream",
     "text": [
      "Epoch 3/3, Loss: 6.877602741122246\n",
      "Checkpoint saved at checkpoints/t5_model_epoch_3_loss_6.8776.pt\n",
      "Learning Rate: 0.005, Epochs: 3, BLEU Score: 0.0\n"
     ]
    },
    {
     "name": "stderr",
     "output_type": "stream",
     "text": [
      "Epoch 1/5: 100%|██████████| 32/32 [00:12<00:00,  2.51it/s]\n"
     ]
    },
    {
     "name": "stdout",
     "output_type": "stream",
     "text": [
      "Epoch 1/5, Loss: 9.133378565311432\n",
      "Checkpoint saved at checkpoints/t5_model_epoch_1_loss_9.1334.pt\n"
     ]
    },
    {
     "name": "stderr",
     "output_type": "stream",
     "text": [
      "Epoch 2/5: 100%|██████████| 32/32 [00:12<00:00,  2.55it/s]\n"
     ]
    },
    {
     "name": "stdout",
     "output_type": "stream",
     "text": [
      "Epoch 2/5, Loss: 7.381121829152107\n",
      "Checkpoint saved at checkpoints/t5_model_epoch_2_loss_7.3811.pt\n"
     ]
    },
    {
     "name": "stderr",
     "output_type": "stream",
     "text": [
      "Epoch 3/5: 100%|██████████| 32/32 [00:12<00:00,  2.54it/s]\n"
     ]
    },
    {
     "name": "stdout",
     "output_type": "stream",
     "text": [
      "Epoch 3/5, Loss: 6.831677943468094\n",
      "Checkpoint saved at checkpoints/t5_model_epoch_3_loss_6.8317.pt\n"
     ]
    },
    {
     "name": "stderr",
     "output_type": "stream",
     "text": [
      "Epoch 4/5: 100%|██████████| 32/32 [00:12<00:00,  2.56it/s]\n"
     ]
    },
    {
     "name": "stdout",
     "output_type": "stream",
     "text": [
      "Epoch 4/5, Loss: 6.5285631865262985\n",
      "Checkpoint saved at checkpoints/t5_model_epoch_4_loss_6.5286.pt\n"
     ]
    },
    {
     "name": "stderr",
     "output_type": "stream",
     "text": [
      "Epoch 5/5: 100%|██████████| 32/32 [00:12<00:00,  2.57it/s]\n"
     ]
    },
    {
     "name": "stdout",
     "output_type": "stream",
     "text": [
      "Epoch 5/5, Loss: 6.395679742097855\n",
      "Checkpoint saved at checkpoints/t5_model_epoch_5_loss_6.3957.pt\n",
      "Learning Rate: 0.005, Epochs: 5, BLEU Score: 0.0\n"
     ]
    },
    {
     "name": "stderr",
     "output_type": "stream",
     "text": [
      "Epoch 1/3: 100%|██████████| 32/32 [00:12<00:00,  2.53it/s]\n"
     ]
    },
    {
     "name": "stdout",
     "output_type": "stream",
     "text": [
      "Epoch 1/3, Loss: 8.481101676821709\n",
      "Checkpoint saved at checkpoints/t5_model_epoch_1_loss_8.4811.pt\n"
     ]
    },
    {
     "name": "stderr",
     "output_type": "stream",
     "text": [
      "Epoch 2/3: 100%|██████████| 32/32 [00:12<00:00,  2.59it/s]\n"
     ]
    },
    {
     "name": "stdout",
     "output_type": "stream",
     "text": [
      "Epoch 2/3, Loss: 6.819018855690956\n",
      "Checkpoint saved at checkpoints/t5_model_epoch_2_loss_6.8190.pt\n"
     ]
    },
    {
     "name": "stderr",
     "output_type": "stream",
     "text": [
      "Epoch 3/3: 100%|██████████| 32/32 [00:12<00:00,  2.58it/s]\n"
     ]
    },
    {
     "name": "stdout",
     "output_type": "stream",
     "text": [
      "Epoch 3/3, Loss: 6.488662302494049\n",
      "Checkpoint saved at checkpoints/t5_model_epoch_3_loss_6.4887.pt\n",
      "Learning Rate: 0.01, Epochs: 3, BLEU Score: 0.0\n"
     ]
    },
    {
     "name": "stderr",
     "output_type": "stream",
     "text": [
      "Epoch 1/5: 100%|██████████| 32/32 [00:12<00:00,  2.57it/s]\n"
     ]
    },
    {
     "name": "stdout",
     "output_type": "stream",
     "text": [
      "Epoch 1/5, Loss: 8.493177071213722\n",
      "Checkpoint saved at checkpoints/t5_model_epoch_1_loss_8.4932.pt\n"
     ]
    },
    {
     "name": "stderr",
     "output_type": "stream",
     "text": [
      "Epoch 2/5: 100%|██████████| 32/32 [00:12<00:00,  2.60it/s]\n"
     ]
    },
    {
     "name": "stdout",
     "output_type": "stream",
     "text": [
      "Epoch 2/5, Loss: 6.830752789974213\n",
      "Checkpoint saved at checkpoints/t5_model_epoch_2_loss_6.8308.pt\n"
     ]
    },
    {
     "name": "stderr",
     "output_type": "stream",
     "text": [
      "Epoch 3/5: 100%|██████████| 32/32 [00:12<00:00,  2.58it/s]\n"
     ]
    },
    {
     "name": "stdout",
     "output_type": "stream",
     "text": [
      "Epoch 3/5, Loss: 6.49367681145668\n",
      "Checkpoint saved at checkpoints/t5_model_epoch_3_loss_6.4937.pt\n"
     ]
    },
    {
     "name": "stderr",
     "output_type": "stream",
     "text": [
      "Epoch 4/5: 100%|██████████| 32/32 [00:12<00:00,  2.59it/s]\n"
     ]
    },
    {
     "name": "stdout",
     "output_type": "stream",
     "text": [
      "Epoch 4/5, Loss: 6.435789257287979\n",
      "Checkpoint saved at checkpoints/t5_model_epoch_4_loss_6.4358.pt\n"
     ]
    },
    {
     "name": "stderr",
     "output_type": "stream",
     "text": [
      "Epoch 5/5: 100%|██████████| 32/32 [00:12<00:00,  2.60it/s]\n"
     ]
    },
    {
     "name": "stdout",
     "output_type": "stream",
     "text": [
      "Epoch 5/5, Loss: 6.333873778581619\n",
      "Checkpoint saved at checkpoints/t5_model_epoch_5_loss_6.3339.pt\n",
      "Learning Rate: 0.01, Epochs: 5, BLEU Score: 0.0\n",
      "Best BLEU Score: 0.0031944005473655544\n",
      "Best Hyperparameters: {'learning_rate': 0.001, 'epochs': 5, 'model': T5ForConditionalGeneration(\n",
      "  (shared): Embedding(32128, 512)\n",
      "  (encoder): T5Stack(\n",
      "    (embed_tokens): Embedding(32128, 512)\n",
      "    (block): ModuleList(\n",
      "      (0): T5Block(\n",
      "        (layer): ModuleList(\n",
      "          (0): T5LayerSelfAttention(\n",
      "            (SelfAttention): T5Attention(\n",
      "              (q): Linear(in_features=512, out_features=512, bias=False)\n",
      "              (k): Linear(in_features=512, out_features=512, bias=False)\n",
      "              (v): Linear(in_features=512, out_features=512, bias=False)\n",
      "              (o): Linear(in_features=512, out_features=512, bias=False)\n",
      "              (relative_attention_bias): Embedding(32, 8)\n",
      "            )\n",
      "            (layer_norm): T5LayerNorm()\n",
      "            (dropout): Dropout(p=0.1, inplace=False)\n",
      "          )\n",
      "          (1): T5LayerFF(\n",
      "            (DenseReluDense): T5DenseActDense(\n",
      "              (wi): Linear(in_features=512, out_features=2048, bias=False)\n",
      "              (wo): Linear(in_features=2048, out_features=512, bias=False)\n",
      "              (dropout): Dropout(p=0.1, inplace=False)\n",
      "              (act): ReLU()\n",
      "            )\n",
      "            (layer_norm): T5LayerNorm()\n",
      "            (dropout): Dropout(p=0.1, inplace=False)\n",
      "          )\n",
      "        )\n",
      "      )\n",
      "      (1-5): 5 x T5Block(\n",
      "        (layer): ModuleList(\n",
      "          (0): T5LayerSelfAttention(\n",
      "            (SelfAttention): T5Attention(\n",
      "              (q): Linear(in_features=512, out_features=512, bias=False)\n",
      "              (k): Linear(in_features=512, out_features=512, bias=False)\n",
      "              (v): Linear(in_features=512, out_features=512, bias=False)\n",
      "              (o): Linear(in_features=512, out_features=512, bias=False)\n",
      "            )\n",
      "            (layer_norm): T5LayerNorm()\n",
      "            (dropout): Dropout(p=0.1, inplace=False)\n",
      "          )\n",
      "          (1): T5LayerFF(\n",
      "            (DenseReluDense): T5DenseActDense(\n",
      "              (wi): Linear(in_features=512, out_features=2048, bias=False)\n",
      "              (wo): Linear(in_features=2048, out_features=512, bias=False)\n",
      "              (dropout): Dropout(p=0.1, inplace=False)\n",
      "              (act): ReLU()\n",
      "            )\n",
      "            (layer_norm): T5LayerNorm()\n",
      "            (dropout): Dropout(p=0.1, inplace=False)\n",
      "          )\n",
      "        )\n",
      "      )\n",
      "    )\n",
      "    (final_layer_norm): T5LayerNorm()\n",
      "    (dropout): Dropout(p=0.1, inplace=False)\n",
      "  )\n",
      "  (decoder): T5Stack(\n",
      "    (embed_tokens): Embedding(32128, 512)\n",
      "    (block): ModuleList(\n",
      "      (0): T5Block(\n",
      "        (layer): ModuleList(\n",
      "          (0): T5LayerSelfAttention(\n",
      "            (SelfAttention): T5Attention(\n",
      "              (q): Linear(in_features=512, out_features=512, bias=False)\n",
      "              (k): Linear(in_features=512, out_features=512, bias=False)\n",
      "              (v): Linear(in_features=512, out_features=512, bias=False)\n",
      "              (o): Linear(in_features=512, out_features=512, bias=False)\n",
      "              (relative_attention_bias): Embedding(32, 8)\n",
      "            )\n",
      "            (layer_norm): T5LayerNorm()\n",
      "            (dropout): Dropout(p=0.1, inplace=False)\n",
      "          )\n",
      "          (1): T5LayerCrossAttention(\n",
      "            (EncDecAttention): T5Attention(\n",
      "              (q): Linear(in_features=512, out_features=512, bias=False)\n",
      "              (k): Linear(in_features=512, out_features=512, bias=False)\n",
      "              (v): Linear(in_features=512, out_features=512, bias=False)\n",
      "              (o): Linear(in_features=512, out_features=512, bias=False)\n",
      "            )\n",
      "            (layer_norm): T5LayerNorm()\n",
      "            (dropout): Dropout(p=0.1, inplace=False)\n",
      "          )\n",
      "          (2): T5LayerFF(\n",
      "            (DenseReluDense): T5DenseActDense(\n",
      "              (wi): Linear(in_features=512, out_features=2048, bias=False)\n",
      "              (wo): Linear(in_features=2048, out_features=512, bias=False)\n",
      "              (dropout): Dropout(p=0.1, inplace=False)\n",
      "              (act): ReLU()\n",
      "            )\n",
      "            (layer_norm): T5LayerNorm()\n",
      "            (dropout): Dropout(p=0.1, inplace=False)\n",
      "          )\n",
      "        )\n",
      "      )\n",
      "      (1-5): 5 x T5Block(\n",
      "        (layer): ModuleList(\n",
      "          (0): T5LayerSelfAttention(\n",
      "            (SelfAttention): T5Attention(\n",
      "              (q): Linear(in_features=512, out_features=512, bias=False)\n",
      "              (k): Linear(in_features=512, out_features=512, bias=False)\n",
      "              (v): Linear(in_features=512, out_features=512, bias=False)\n",
      "              (o): Linear(in_features=512, out_features=512, bias=False)\n",
      "            )\n",
      "            (layer_norm): T5LayerNorm()\n",
      "            (dropout): Dropout(p=0.1, inplace=False)\n",
      "          )\n",
      "          (1): T5LayerCrossAttention(\n",
      "            (EncDecAttention): T5Attention(\n",
      "              (q): Linear(in_features=512, out_features=512, bias=False)\n",
      "              (k): Linear(in_features=512, out_features=512, bias=False)\n",
      "              (v): Linear(in_features=512, out_features=512, bias=False)\n",
      "              (o): Linear(in_features=512, out_features=512, bias=False)\n",
      "            )\n",
      "            (layer_norm): T5LayerNorm()\n",
      "            (dropout): Dropout(p=0.1, inplace=False)\n",
      "          )\n",
      "          (2): T5LayerFF(\n",
      "            (DenseReluDense): T5DenseActDense(\n",
      "              (wi): Linear(in_features=512, out_features=2048, bias=False)\n",
      "              (wo): Linear(in_features=2048, out_features=512, bias=False)\n",
      "              (dropout): Dropout(p=0.1, inplace=False)\n",
      "              (act): ReLU()\n",
      "            )\n",
      "            (layer_norm): T5LayerNorm()\n",
      "            (dropout): Dropout(p=0.1, inplace=False)\n",
      "          )\n",
      "        )\n",
      "      )\n",
      "    )\n",
      "    (final_layer_norm): T5LayerNorm()\n",
      "    (dropout): Dropout(p=0.1, inplace=False)\n",
      "  )\n",
      "  (lm_head): Linear(in_features=512, out_features=32128, bias=False)\n",
      ")}\n"
     ]
    }
   ],
   "source": [
    "#lets make hyperparameter tuning\n",
    "# Hyperparameter tuning\n",
    "learning_rates = [0.001, 0.005, 0.01]\n",
    "epochs = [3,5]\n",
    "best_bleu_score = 0\n",
    "best_hyperparameters = {}\n",
    "\n",
    "for lr in learning_rates:\n",
    "    for epoch in epochs:\n",
    "        model = T5ForConditionalGeneration(config).to(device)\n",
    "        model.apply(initialize_weights)\n",
    "        loss_values = train_model(model, train_loader_small, val_loader_small, epoch, lr, checkpoint_dir)\n",
    "        bleu_score = evaluate_bleu(model, tokenizer, val_loader_small)\n",
    "        print(f'Learning Rate: {lr}, Epochs: {epoch}, BLEU Score: {bleu_score}')\n",
    "\n",
    "        if bleu_score > best_bleu_score:\n",
    "            best_bleu_score = bleu_score\n",
    "            best_hyperparameters['learning_rate'] = lr\n",
    "            best_hyperparameters['epochs'] = epoch\n",
    "            best_hyperparameters['model'] = model\n",
    "\n",
    "print(f'Best BLEU Score: {best_bleu_score}')\n",
    "print(f'Best Hyperparameters: {best_hyperparameters}')\n"
   ]
  },
  {
   "cell_type": "code",
   "execution_count": 34,
   "id": "f8eb1bc9",
   "metadata": {},
   "outputs": [],
   "source": [
    "# Training parameters\n",
    "epochs = 5\n",
    "learning_rate = 0.003\n",
    "checkpoint_dir = 'checkpoints_t5'\n",
    "batch_size = 32\n",
    "\n",
    "# Manual split\n",
    "num_parts = 6\n",
    "chunk_size = len(data_de) // num_parts\n",
    "\n",
    "# Part 1\n",
    "start_idx_1, end_idx_1 = 0, chunk_size\n",
    "src_train_part_1 = data_en[start_idx_1:end_idx_1]\n",
    "tgt_train_part_1 = data_de[start_idx_1:end_idx_1]\n",
    "\n",
    "# Part 2\n",
    "start_idx_2, end_idx_2 = chunk_size, 2 * chunk_size\n",
    "src_train_part_2 = data_en[start_idx_2:end_idx_2]\n",
    "tgt_train_part_2 = data_de[start_idx_2:end_idx_2]\n",
    "\n",
    "# Part 3\n",
    "start_idx_3, end_idx_3 = 2 * chunk_size, 3 * chunk_size\n",
    "src_train_part_3 = data_en[start_idx_3:end_idx_3]\n",
    "tgt_train_part_3 = data_de[start_idx_3:end_idx_3]\n",
    "\n",
    "# Part 4\n",
    "start_idx_4, end_idx_4 = 3 * chunk_size, 4 * chunk_size\n",
    "src_train_part_4 = data_en[start_idx_4:end_idx_4]\n",
    "tgt_train_part_4 = data_de[start_idx_4:end_idx_4]\n",
    "\n",
    "# Part 5\n",
    "start_idx_5, end_idx_5 = 4 * chunk_size, 5 * chunk_size\n",
    "src_train_part_5 = data_en[start_idx_5:end_idx_5]\n",
    "tgt_train_part_5 = data_de[start_idx_5:end_idx_5]\n",
    "\n",
    "# Part 6 (remaining data)\n",
    "start_idx_6, end_idx_6 = 5 * chunk_size, len(data_de)\n",
    "src_train_part_6 = data_en[start_idx_6:end_idx_6]\n",
    "tgt_train_part_6 = data_de[start_idx_6:end_idx_6]\n",
    "\n",
    "# Create data loaders for each part\n",
    "train_dataset_1 = TranslationDataset(src_train_part_1, tgt_train_part_1, tokenizer)\n",
    "train_loader_1 = DataLoader(train_dataset_1, batch_size=batch_size, shuffle=True)\n",
    "\n",
    "train_dataset_2 = TranslationDataset(src_train_part_2, tgt_train_part_2, tokenizer)\n",
    "train_loader_2 = DataLoader(train_dataset_2, batch_size=batch_size, shuffle=True)\n",
    "\n",
    "train_dataset_3 = TranslationDataset(src_train_part_3, tgt_train_part_3, tokenizer)\n",
    "train_loader_3 = DataLoader(train_dataset_3, batch_size=batch_size, shuffle=True)\n",
    "\n",
    "train_dataset_4 = TranslationDataset(src_train_part_4, tgt_train_part_4, tokenizer)\n",
    "train_loader_4 = DataLoader(train_dataset_4, batch_size=batch_size, shuffle=True)\n",
    "\n",
    "train_dataset_5 = TranslationDataset(src_train_part_5, tgt_train_part_5, tokenizer)\n",
    "train_loader_5 = DataLoader(train_dataset_5, batch_size=batch_size, shuffle=True)\n",
    "\n",
    "train_dataset_6 = TranslationDataset(src_train_part_6, tgt_train_part_6, tokenizer)\n",
    "train_loader_6 = DataLoader(train_dataset_6, batch_size=batch_size, shuffle=True)\n",
    "\n",
    "# Function to save checkpoint\n",
    "def save_checkpoint(model, optimizer, epoch, checkpoint_dir, part):\n",
    "    checkpoint_path = os.path.join(checkpoint_dir, f'checkpoint_part_{part}_epoch_{epoch}.pt')\n",
    "    os.makedirs(checkpoint_dir, exist_ok=True)\n",
    "    torch.save({\n",
    "        'epoch': epoch,\n",
    "        'model_state_dict': model.state_dict(),\n",
    "        'optimizer_state_dict': optimizer.state_dict()\n",
    "    }, checkpoint_path)\n",
    "    print(f'Checkpoint saved at {checkpoint_path}')\n",
    "\n",
    "# Function to load checkpoint\n",
    "def load_checkpoint(model, optimizer, checkpoint_dir, part):\n",
    "    checkpoint_files = [f for f in os.listdir(checkpoint_dir) if f.startswith(f'checkpoint_part_{part}_')]\n",
    "    if not checkpoint_files:\n",
    "        return 0  # No checkpoints found, start from epoch 0\n",
    "    latest_checkpoint = sorted(checkpoint_files, key=lambda x: int(x.split('_')[-1].split('.')[0]))[-1]\n",
    "    checkpoint_path = os.path.join(checkpoint_dir, latest_checkpoint)\n",
    "    checkpoint = torch.load(checkpoint_path, map_location=device)\n",
    "    model.load_state_dict(checkpoint['model_state_dict'])\n",
    "    optimizer.load_state_dict(checkpoint['optimizer_state_dict'])\n",
    "    start_epoch = checkpoint['epoch'] + 1\n",
    "    print(f'Checkpoint loaded from {checkpoint_path}, resuming training from epoch {start_epoch}')\n",
    "    return start_epoch\n"
   ]
  },
  {
   "cell_type": "code",
   "execution_count": 35,
   "id": "459c2a79",
   "metadata": {},
   "outputs": [],
   "source": [
    "# Training function\n",
    "def train_model(model, dataloader, epochs, learning_rate, checkpoint_dir, part):\n",
    "    optimizer = AdamW(model.parameters(), lr=learning_rate)\n",
    "    start_epoch = load_checkpoint(model, optimizer, checkpoint_dir, part)\n",
    "    loss_values = []\n",
    "\n",
    "    for epoch in range(start_epoch, epochs):\n",
    "        model.train()\n",
    "        total_loss = 0\n",
    "        with tqdm(total=len(dataloader), desc=f'Epoch {epoch+1}/{epochs} (Part {part})') as pbar:\n",
    "            for batch in dataloader:\n",
    "                optimizer.zero_grad()\n",
    "                input_ids = batch['input_ids'].to(device)\n",
    "                attention_mask = batch['attention_mask'].to(device)\n",
    "                labels = batch['labels'].to(device)\n",
    "\n",
    "                outputs = model(input_ids=input_ids, attention_mask=attention_mask, labels=labels)\n",
    "                loss = outputs.loss\n",
    "                loss.backward()\n",
    "                optimizer.step()\n",
    "\n",
    "                total_loss += loss.item()\n",
    "                pbar.set_postfix({'loss': total_loss / (pbar.n + 1)})\n",
    "                pbar.update(1)\n",
    "\n",
    "        avg_loss = total_loss / len(dataloader)\n",
    "        loss_values.append(avg_loss)\n",
    "        print(f'Epoch {epoch+1}/{epochs}, Loss: {avg_loss}')\n",
    "        save_checkpoint(model, optimizer, epoch, checkpoint_dir, part)\n",
    "\n",
    "    return loss_values\n"
   ]
  },
  {
   "cell_type": "code",
   "execution_count": 39,
   "id": "9d0c55f1",
   "metadata": {},
   "outputs": [
    {
     "name": "stderr",
     "output_type": "stream",
     "text": [
      "Epoch 1/5 (Part 1): 100%|██████████| 10002/10002 [1:10:50<00:00,  2.35it/s, loss=5.95]\n"
     ]
    },
    {
     "name": "stdout",
     "output_type": "stream",
     "text": [
      "Epoch 1/5, Loss: 5.949157538544629\n",
      "Checkpoint saved at checkpoints_t5/checkpoint_part_1_epoch_0.pt\n"
     ]
    },
    {
     "name": "stderr",
     "output_type": "stream",
     "text": [
      "Epoch 2/5 (Part 1): 100%|██████████| 10002/10002 [1:10:48<00:00,  2.35it/s, loss=5.71]\n"
     ]
    },
    {
     "name": "stdout",
     "output_type": "stream",
     "text": [
      "Epoch 2/5, Loss: 5.706046267524526\n",
      "Checkpoint saved at checkpoints_t5/checkpoint_part_1_epoch_1.pt\n"
     ]
    },
    {
     "name": "stderr",
     "output_type": "stream",
     "text": [
      "Epoch 3/5 (Part 1): 100%|██████████| 10002/10002 [1:11:08<00:00,  2.34it/s, loss=5.56]\n"
     ]
    },
    {
     "name": "stdout",
     "output_type": "stream",
     "text": [
      "Epoch 3/5, Loss: 5.555838223911004\n",
      "Checkpoint saved at checkpoints_t5/checkpoint_part_1_epoch_2.pt\n"
     ]
    },
    {
     "name": "stderr",
     "output_type": "stream",
     "text": [
      "Epoch 4/5 (Part 1): 100%|██████████| 10002/10002 [1:11:24<00:00,  2.33it/s, loss=5.46]\n"
     ]
    },
    {
     "name": "stdout",
     "output_type": "stream",
     "text": [
      "Epoch 4/5, Loss: 5.463186717133502\n",
      "Checkpoint saved at checkpoints_t5/checkpoint_part_1_epoch_3.pt\n"
     ]
    },
    {
     "name": "stderr",
     "output_type": "stream",
     "text": [
      "Epoch 5/5 (Part 1): 100%|██████████| 10002/10002 [1:12:07<00:00,  2.31it/s, loss=5.49]\n"
     ]
    },
    {
     "name": "stdout",
     "output_type": "stream",
     "text": [
      "Epoch 5/5, Loss: 5.491880672832795\n",
      "Checkpoint saved at checkpoints_t5/checkpoint_part_1_epoch_4.pt\n"
     ]
    },
    {
     "name": "stderr",
     "output_type": "stream",
     "text": [
      "Epoch 1/5 (Part 2): 100%|██████████| 10002/10002 [1:15:20<00:00,  2.21it/s, loss=5.34]\n"
     ]
    },
    {
     "name": "stdout",
     "output_type": "stream",
     "text": [
      "Epoch 1/5, Loss: 5.339317402966474\n",
      "Checkpoint saved at checkpoints_t5/checkpoint_part_2_epoch_0.pt\n"
     ]
    },
    {
     "name": "stderr",
     "output_type": "stream",
     "text": [
      "Epoch 2/5 (Part 2): 100%|██████████| 10002/10002 [1:17:25<00:00,  2.15it/s, loss=5.28]\n"
     ]
    },
    {
     "name": "stdout",
     "output_type": "stream",
     "text": [
      "Epoch 2/5, Loss: 5.280064149180356\n",
      "Checkpoint saved at checkpoints_t5/checkpoint_part_2_epoch_1.pt\n"
     ]
    },
    {
     "name": "stderr",
     "output_type": "stream",
     "text": [
      "Epoch 3/5 (Part 2): 100%|██████████| 10002/10002 [1:17:56<00:00,  2.14it/s, loss=5.3] \n"
     ]
    },
    {
     "name": "stdout",
     "output_type": "stream",
     "text": [
      "Epoch 3/5, Loss: 5.304976251167766\n",
      "Checkpoint saved at checkpoints_t5/checkpoint_part_2_epoch_2.pt\n"
     ]
    },
    {
     "name": "stderr",
     "output_type": "stream",
     "text": [
      "Epoch 4/5 (Part 2): 100%|██████████| 10002/10002 [1:43:52<00:00,  1.60it/s, loss=5.26]  \n"
     ]
    },
    {
     "name": "stdout",
     "output_type": "stream",
     "text": [
      "Epoch 4/5, Loss: 5.257578409664442\n",
      "Checkpoint saved at checkpoints_t5/checkpoint_part_2_epoch_3.pt\n"
     ]
    },
    {
     "name": "stderr",
     "output_type": "stream",
     "text": [
      "Epoch 5/5 (Part 2): 100%|██████████| 10002/10002 [1:33:31<00:00,  1.78it/s, loss=5.28]  \n"
     ]
    },
    {
     "name": "stdout",
     "output_type": "stream",
     "text": [
      "Epoch 5/5, Loss: 5.281784280398635\n",
      "Checkpoint saved at checkpoints_t5/checkpoint_part_2_epoch_4.pt\n",
      "Final model saved at checkpoints_t5/t5_final_model.pt\n"
     ]
    },
    {
     "data": {
      "image/png": "[encoded data removed]",
      "text/plain": [
       "<Figure size 1000x500 with 1 Axes>"
      ]
     },
     "metadata": {},
     "output_type": "display_data"
    }
   ],
   "source": [
    "# Train the model on each part\n",
    "loss_values_1 = train_model(model, train_loader_1, epochs, learning_rate, checkpoint_dir, 1)\n",
    "loss_values_2 = train_model(model, train_loader_2, epochs, learning_rate, checkpoint_dir, 2)\n",
    "# loss_values_3 = train_model(model, train_loader_3, epochs, learning_rate, checkpoint_dir, 3)\n",
    "# loss_values_4 = train_model(model, train_loader_4, epochs, learning_rate, checkpoint_dir, 4)\n",
    "# loss_values_5 = train_model(model, train_loader_5, epochs, learning_rate, checkpoint_dir, 5)\n",
    "# loss_values_6 = train_model(model, train_loader_6, epochs, learning_rate, checkpoint_dir, 6)\n",
    "\n",
    "# Save the final model\n",
    "final_model_path = os.path.join(checkpoint_dir, 't5_final_model.pt')\n",
    "torch.save(model.state_dict(), final_model_path)\n",
    "print(f'Final model saved at {final_model_path}')\n",
    "\n",
    "# Plot training loss\n",
    "plt.figure(figsize=(10, 5))\n",
    "plt.plot(range(1, epochs + 1), loss_values_1, marker='o', label='Training Loss Part 1')\n",
    "plt.plot(range(1, epochs + 1), loss_values_2, marker='o', label='Training Loss Part 2')\n",
    "# plt.plot(range(1, epochs + 1), loss_values_3, marker='o', label='Training Loss Part 3')\n",
    "# plt.plot(range(1, epochs + 1), loss_values_4, marker='o', label='Training Loss Part 4')\n",
    "# plt.plot(range(1, epochs + 1), loss_values_5, marker='o', label='Training Loss Part 5')\n",
    "# plt.plot(range(1, epochs + 1), loss_values_6, marker='o', label='Training Loss Part 6')\n",
    "plt.xlabel('Epoch')\n",
    "plt.ylabel('Loss')\n",
    "plt.title('Training Loss Over Epochs')\n",
    "plt.legend()\n",
    "plt.grid(True)\n",
    "plt.show()"
   ]
  },
  {
   "cell_type": "code",
   "execution_count": 40,
   "id": "36e8dad4",
   "metadata": {},
   "outputs": [
    {
     "name": "stdout",
     "output_type": "stream",
     "text": [
      "Validation BLEU Score: 0.005039067416721451\n"
     ]
    }
   ],
   "source": [
    "# Split data for validation\n",
    "# src_train, src_val, tgt_train, tgt_val = train_test_split(data_en, data_de, test_size=0.01, random_state=42)\n",
    "val_dataset_small = TranslationDataset(src_val[:1000], tgt_val[:1000], tokenizer)\n",
    "val_loader_small = DataLoader(val_dataset_small, batch_size=batch_size)\n",
    "\n",
    "# Evaluate the model\n",
    "bleu_score = evaluate_bleu(model, tokenizer, val_loader_small)\n",
    "print(f'Validation BLEU Score: {bleu_score}')"
   ]
  },
  {
   "cell_type": "markdown",
   "id": "fa41a691",
   "metadata": {},
   "source": [
    "Model Architecture:\n",
    "Transformer Model: T5 (t5-small), initialized from scratch.\n",
    "Layers: The T5 model has a series of encoder and decoder layers with self-attention mechanisms.\n",
    "Tokenizer: T5 tokenizer for tokenizing input and output sentences.\n",
    "Hyperparameters:\n",
    "\n",
    "Epochs: 5\n",
    "Learning Rate: 0.003\n",
    "Batch Size: 32\n",
    "Gradient Accumulation Steps: 4 (to effectively increase batch size without running out of memory)\n",
    "\n",
    "Training Process:\n",
    "\n",
    "Initialization: Model weights are initialized using Xavier uniform initialization.\n",
    "\n",
    "Training: Model is trained over multiple epochs with AdamW optimizer. Checkpoints are saved after each epoch.\n",
    "\n",
    "Loss Calculation: Cross-entropy loss is used, ignoring the padding tokens in the target sequence.\n",
    "\n",
    "Evaluation: BLEU score is calculated on a separate validation set after training.\n"
   ]
  },
  {
   "cell_type": "code",
   "execution_count": 45,
   "id": "62927c0c",
   "metadata": {},
   "outputs": [
    {
     "name": "stdout",
     "output_type": "stream",
     "text": [
      "Input IDs: tensor([[  863,  3098,     6,   258,     6,    21,    48,  1962,    31,     3,\n",
      "             7, 10844,     5,     1,     0,     0,     0,     0,     0,     0,\n",
      "             0,     0,     0,     0,     0,     0,     0,     0,     0,     0,\n",
      "             0,     0,     0,     0,     0,     0,     0,     0,     0,     0,\n",
      "             0,     0,     0,     0,     0,     0,     0,     0,     0,     0]],\n",
      "       device='mps:0')\n",
      "Attention Mask: tensor([[1, 1, 1, 1, 1, 1, 1, 1, 1, 1, 1, 1, 1, 1, 0, 0, 0, 0, 0, 0, 0, 0, 0, 0,\n",
      "         0, 0, 0, 0, 0, 0, 0, 0, 0, 0, 0, 0, 0, 0, 0, 0, 0, 0, 0, 0, 0, 0, 0, 0,\n",
      "         0, 0]], device='mps:0')\n",
      "Generated Tokens: tensor([[   0,  316,  229,    3,   15,    7,    6,  602,   67, 5837, 5451,   35,\n",
      "            5,    1]], device='mps:0')\n",
      "Original: Please rise, then, for this minute' s silence.\n",
      "Translation: Die ist es, dass die Kommissionen.\n"
     ]
    }
   ],
   "source": [
    "def translate_text(model, tokenizer, text, max_length=50):\n",
    "    # Tokenize the input text\n",
    "    inputs = tokenizer(text, return_tensors=\"pt\", padding=\"max_length\", truncation=True, max_length=max_length)\n",
    "    input_ids = inputs[\"input_ids\"].to(device)\n",
    "    attention_mask = inputs[\"attention_mask\"].to(device)\n",
    "\n",
    "    print(f\"Input IDs: {input_ids}\")\n",
    "    print(f\"Attention Mask: {attention_mask}\")\n",
    "\n",
    "    # Generate translation\n",
    "    model.eval()\n",
    "    with torch.no_grad():\n",
    "        outputs = model.generate(input_ids=input_ids, attention_mask=attention_mask, max_length=max_length, num_beams=4, early_stopping=True)\n",
    "\n",
    "    print(f\"Generated Tokens: {outputs}\")\n",
    "\n",
    "    # Decode the generated tokens to get the translation\n",
    "    translated_text = tokenizer.decode(outputs[0], skip_special_tokens=True)\n",
    "    return translated_text\n",
    "\n",
    "# Example usage\n",
    "example_text = \"Please rise, then, for this minute' s silence.\"\n",
    "translated_text = translate_text(model, tokenizer, example_text)\n",
    "print(f\"Original: {example_text}\")\n",
    "print(f\"Translation: {translated_text}\")\n",
    "\n"
   ]
  },
  {
   "cell_type": "code",
   "execution_count": 65,
   "id": "1378fef8",
   "metadata": {},
   "outputs": [
    {
     "name": "stdout",
     "output_type": "stream",
     "text": [
      "Loaded model from checkpoints_t5/t5_final_model.pt\n",
      "1165\n",
      "1000\n",
      "1000\n",
      "1000\n"
     ]
    }
   ],
   "source": [
    "# Load the model weights from the checkpoint\n",
    "checkpoint_dir = 'checkpoints_t5'\n",
    "checkpoint_path = os.path.join(checkpoint_dir, 't5_final_model.pt')\n",
    "model.load_state_dict(torch.load(checkpoint_path))\n",
    "model.to(device)\n",
    "print(f\"Loaded model from {checkpoint_path}\")\n",
    "\n",
    "# Read the new data\n",
    "new_path_de = 'new_dataset/new_de-en.de'\n",
    "new_path_en = 'new_dataset/new_de-en.en'\n",
    "\n",
    "with open(new_path_de, 'r', encoding='utf-8') as f:\n",
    "    new_data_de = f.readlines()\n",
    "\n",
    "with open(new_path_en, 'r', encoding='utf-8') as f:\n",
    "    new_data_en = f.readlines()\n",
    "\n",
    "\n",
    "print(len(new_data_de))\n",
    "print(len(new_data_en))\n",
    "\n",
    "# clean the data\n",
    "# Remove empty lines\n",
    "new_data_de = [line.strip() for line in new_data_de if line.strip()]\n",
    "new_data_en = [line.strip() for line in new_data_en if line.strip()]\n",
    "\n",
    "# Remove long sentences\n",
    "max_length = 128\n",
    "new_data_de = [line for line in new_data_de if len(line.split()) <= max_length]\n",
    "new_data_en = [line for line in new_data_en if len(line.split()) <= max_length]\n",
    "\n",
    "print(len(new_data_de))\n",
    "print(len(new_data_en))\n",
    "\n",
    "# Prepare data\n",
    "class TranslationDataset(Dataset):\n",
    "    def __init__(self, src_texts, tgt_texts, tokenizer, max_len=128):\n",
    "        self.src_texts = src_texts\n",
    "        self.tgt_texts = tgt_texts\n",
    "        self.tokenizer = tokenizer\n",
    "        self.max_len = max_len\n",
    "\n",
    "    def __len__(self):\n",
    "        return len(self.src_texts)\n",
    "\n",
    "    def __getitem__(self, idx):\n",
    "        src_text = self.src_texts[idx]\n",
    "        tgt_text = self.tgt_texts[idx]\n",
    "\n",
    "        src_encoding = self.tokenizer(\n",
    "            src_text, max_length=self.max_len, padding=\"max_length\", truncation=True, return_tensors=\"pt\"\n",
    "        )\n",
    "        tgt_encoding = self.tokenizer(\n",
    "            tgt_text, max_length=self.max_len, padding=\"max_length\", truncation=True, return_tensors=\"pt\"\n",
    "        )\n",
    "\n",
    "        labels = tgt_encoding.input_ids\n",
    "        labels[labels == self.tokenizer.pad_token_id] = -100  # Ignore padding tokens in the loss\n",
    "\n",
    "        return {\n",
    "            'input_ids': src_encoding.input_ids.flatten(),\n",
    "            'attention_mask': src_encoding.attention_mask.flatten(),\n",
    "            'labels': labels.flatten()\n",
    "        }\n",
    "\n"
   ]
  },
  {
   "cell_type": "code",
   "execution_count": 66,
   "id": "fd34fea9",
   "metadata": {},
   "outputs": [
    {
     "name": "stdout",
     "output_type": "stream",
     "text": [
      "Loaded model from checkpoints_t5/t5_final_model.pt\n"
     ]
    },
    {
     "name": "stderr",
     "output_type": "stream",
     "text": [
      "Epoch 1/20 (Part new): 100%|██████████| 32/32 [00:25<00:00,  1.26it/s, loss=5.66]\n"
     ]
    },
    {
     "name": "stdout",
     "output_type": "stream",
     "text": [
      "Epoch 1/20, Loss: 5.6558284014463425\n",
      "Checkpoint saved at checkpoints_t5/checkpoint_part_new_epoch_0.pt\n"
     ]
    },
    {
     "name": "stderr",
     "output_type": "stream",
     "text": [
      "Epoch 2/20 (Part new): 100%|██████████| 32/32 [00:13<00:00,  2.30it/s, loss=4.81]\n"
     ]
    },
    {
     "name": "stdout",
     "output_type": "stream",
     "text": [
      "Epoch 2/20, Loss: 4.8148903995752335\n",
      "Checkpoint saved at checkpoints_t5/checkpoint_part_new_epoch_1.pt\n"
     ]
    },
    {
     "name": "stderr",
     "output_type": "stream",
     "text": [
      "Epoch 3/20 (Part new): 100%|██████████| 32/32 [00:13<00:00,  2.41it/s, loss=4.58]\n"
     ]
    },
    {
     "name": "stdout",
     "output_type": "stream",
     "text": [
      "Epoch 3/20, Loss: 4.58166316151619\n",
      "Checkpoint saved at checkpoints_t5/checkpoint_part_new_epoch_2.pt\n"
     ]
    },
    {
     "name": "stderr",
     "output_type": "stream",
     "text": [
      "Epoch 4/20 (Part new): 100%|██████████| 32/32 [00:12<00:00,  2.51it/s, loss=4.46]\n"
     ]
    },
    {
     "name": "stdout",
     "output_type": "stream",
     "text": [
      "Epoch 4/20, Loss: 4.4647631496191025\n",
      "Checkpoint saved at checkpoints_t5/checkpoint_part_new_epoch_3.pt\n"
     ]
    },
    {
     "name": "stderr",
     "output_type": "stream",
     "text": [
      "Epoch 5/20 (Part new): 100%|██████████| 32/32 [00:13<00:00,  2.38it/s, loss=4.34]\n"
     ]
    },
    {
     "name": "stdout",
     "output_type": "stream",
     "text": [
      "Epoch 5/20, Loss: 4.341987386345863\n",
      "Checkpoint saved at checkpoints_t5/checkpoint_part_new_epoch_4.pt\n"
     ]
    },
    {
     "name": "stderr",
     "output_type": "stream",
     "text": [
      "Epoch 6/20 (Part new): 100%|██████████| 32/32 [00:12<00:00,  2.49it/s, loss=4.26]\n"
     ]
    },
    {
     "name": "stdout",
     "output_type": "stream",
     "text": [
      "Epoch 6/20, Loss: 4.26268544793129\n",
      "Checkpoint saved at checkpoints_t5/checkpoint_part_new_epoch_5.pt\n"
     ]
    },
    {
     "name": "stderr",
     "output_type": "stream",
     "text": [
      "Epoch 7/20 (Part new): 100%|██████████| 32/32 [00:13<00:00,  2.40it/s, loss=4.2] \n"
     ]
    },
    {
     "name": "stdout",
     "output_type": "stream",
     "text": [
      "Epoch 7/20, Loss: 4.199431121349335\n",
      "Checkpoint saved at checkpoints_t5/checkpoint_part_new_epoch_6.pt\n"
     ]
    },
    {
     "name": "stderr",
     "output_type": "stream",
     "text": [
      "Epoch 8/20 (Part new): 100%|██████████| 32/32 [00:12<00:00,  2.54it/s, loss=4.12]\n"
     ]
    },
    {
     "name": "stdout",
     "output_type": "stream",
     "text": [
      "Epoch 8/20, Loss: 4.123682662844658\n",
      "Checkpoint saved at checkpoints_t5/checkpoint_part_new_epoch_7.pt\n"
     ]
    },
    {
     "name": "stderr",
     "output_type": "stream",
     "text": [
      "Epoch 9/20 (Part new): 100%|██████████| 32/32 [00:12<00:00,  2.54it/s, loss=4.07]\n"
     ]
    },
    {
     "name": "stdout",
     "output_type": "stream",
     "text": [
      "Epoch 9/20, Loss: 4.073017001152039\n",
      "Checkpoint saved at checkpoints_t5/checkpoint_part_new_epoch_8.pt\n"
     ]
    },
    {
     "name": "stderr",
     "output_type": "stream",
     "text": [
      "Epoch 10/20 (Part new): 100%|██████████| 32/32 [00:12<00:00,  2.53it/s, loss=4.02]\n"
     ]
    },
    {
     "name": "stdout",
     "output_type": "stream",
     "text": [
      "Epoch 10/20, Loss: 4.024856135249138\n",
      "Checkpoint saved at checkpoints_t5/checkpoint_part_new_epoch_9.pt\n"
     ]
    },
    {
     "name": "stderr",
     "output_type": "stream",
     "text": [
      "Epoch 11/20 (Part new): 100%|██████████| 32/32 [00:13<00:00,  2.35it/s, loss=3.97]\n"
     ]
    },
    {
     "name": "stdout",
     "output_type": "stream",
     "text": [
      "Epoch 11/20, Loss: 3.9730312451720238\n",
      "Checkpoint saved at checkpoints_t5/checkpoint_part_new_epoch_10.pt\n"
     ]
    },
    {
     "name": "stderr",
     "output_type": "stream",
     "text": [
      "Epoch 12/20 (Part new): 100%|██████████| 32/32 [00:14<00:00,  2.26it/s, loss=3.96]\n"
     ]
    },
    {
     "name": "stdout",
     "output_type": "stream",
     "text": [
      "Epoch 12/20, Loss: 3.964970886707306\n",
      "Checkpoint saved at checkpoints_t5/checkpoint_part_new_epoch_11.pt\n"
     ]
    },
    {
     "name": "stderr",
     "output_type": "stream",
     "text": [
      "Epoch 13/20 (Part new): 100%|██████████| 32/32 [00:15<00:00,  2.04it/s, loss=3.9] \n"
     ]
    },
    {
     "name": "stdout",
     "output_type": "stream",
     "text": [
      "Epoch 13/20, Loss: 3.896428018808365\n",
      "Checkpoint saved at checkpoints_t5/checkpoint_part_new_epoch_12.pt\n"
     ]
    },
    {
     "name": "stderr",
     "output_type": "stream",
     "text": [
      "Epoch 14/20 (Part new): 100%|██████████| 32/32 [00:16<00:00,  1.95it/s, loss=3.86]\n"
     ]
    },
    {
     "name": "stdout",
     "output_type": "stream",
     "text": [
      "Epoch 14/20, Loss: 3.8592383414506912\n",
      "Checkpoint saved at checkpoints_t5/checkpoint_part_new_epoch_13.pt\n"
     ]
    },
    {
     "name": "stderr",
     "output_type": "stream",
     "text": [
      "Epoch 15/20 (Part new): 100%|██████████| 32/32 [00:17<00:00,  1.86it/s, loss=3.83]\n"
     ]
    },
    {
     "name": "stdout",
     "output_type": "stream",
     "text": [
      "Epoch 15/20, Loss: 3.8265662491321564\n",
      "Checkpoint saved at checkpoints_t5/checkpoint_part_new_epoch_14.pt\n"
     ]
    },
    {
     "name": "stderr",
     "output_type": "stream",
     "text": [
      "Epoch 16/20 (Part new): 100%|██████████| 32/32 [00:18<00:00,  1.72it/s, loss=3.83]\n"
     ]
    },
    {
     "name": "stdout",
     "output_type": "stream",
     "text": [
      "Epoch 16/20, Loss: 3.82973051071167\n",
      "Checkpoint saved at checkpoints_t5/checkpoint_part_new_epoch_15.pt\n"
     ]
    },
    {
     "name": "stderr",
     "output_type": "stream",
     "text": [
      "Epoch 17/20 (Part new): 100%|██████████| 32/32 [00:18<00:00,  1.76it/s, loss=3.88]\n"
     ]
    },
    {
     "name": "stdout",
     "output_type": "stream",
     "text": [
      "Epoch 17/20, Loss: 3.880869559943676\n",
      "Checkpoint saved at checkpoints_t5/checkpoint_part_new_epoch_16.pt\n"
     ]
    },
    {
     "name": "stderr",
     "output_type": "stream",
     "text": [
      "Epoch 18/20 (Part new): 100%|██████████| 32/32 [00:18<00:00,  1.77it/s, loss=3.85]\n"
     ]
    },
    {
     "name": "stdout",
     "output_type": "stream",
     "text": [
      "Epoch 18/20, Loss: 3.8456354290246964\n",
      "Checkpoint saved at checkpoints_t5/checkpoint_part_new_epoch_17.pt\n"
     ]
    },
    {
     "name": "stderr",
     "output_type": "stream",
     "text": [
      "Epoch 19/20 (Part new): 100%|██████████| 32/32 [00:17<00:00,  1.86it/s, loss=3.9] \n"
     ]
    },
    {
     "name": "stdout",
     "output_type": "stream",
     "text": [
      "Epoch 19/20, Loss: 3.9005901366472244\n",
      "Checkpoint saved at checkpoints_t5/checkpoint_part_new_epoch_18.pt\n"
     ]
    },
    {
     "name": "stderr",
     "output_type": "stream",
     "text": [
      "Epoch 20/20 (Part new): 100%|██████████| 32/32 [00:16<00:00,  1.99it/s, loss=3.93]\n"
     ]
    },
    {
     "name": "stdout",
     "output_type": "stream",
     "text": [
      "Epoch 20/20, Loss: 3.929352767765522\n",
      "Checkpoint saved at checkpoints_t5/checkpoint_part_new_epoch_19.pt\n",
      "Final model saved at checkpoints_t5/t5_final_model_further_trained.pt\n"
     ]
    },
    {
     "data": {
      "image/png": "[encoded data removed]",
      "text/plain": [
       "<Figure size 1000x500 with 1 Axes>"
      ]
     },
     "metadata": {},
     "output_type": "display_data"
    }
   ],
   "source": [
    "\n",
    "# Create data loader for the new dataset :/ :) \n",
    "batch_size = 32\n",
    "new_train_dataset = TranslationDataset(new_data_en, new_data_de, tokenizer)\n",
    "new_train_loader = DataLoader(new_train_dataset, batch_size=batch_size, shuffle=True)\n",
    "\n",
    "# Training parameters\n",
    "epochs = 20\n",
    "learning_rate = 0.003\n",
    "\n",
    "# Load the model weights from the checkpoint\n",
    "checkpoint_dir = 'checkpoints_t5'\n",
    "checkpoint_path = os.path.join(checkpoint_dir, 't5_final_model.pt')\n",
    "model.load_state_dict(torch.load(checkpoint_path))\n",
    "model.to(device)\n",
    "print(f\"Loaded model from {checkpoint_path}\")\n",
    "\n",
    "\n",
    "# Train the model on the new dataset\n",
    "loss_values_new = train_model(model, new_train_loader, epochs, learning_rate, checkpoint_dir, 'new')\n",
    "\n",
    "# Save the final model after further training\n",
    "final_model_path_new = os.path.join(checkpoint_dir, 't5_final_model_further_trained.pt')\n",
    "torch.save(model.state_dict(), final_model_path_new)\n",
    "print(f'Final model saved at {final_model_path_new}')\n",
    "\n",
    "# Plot training loss\n",
    "plt.figure(figsize=(10, 5))\n",
    "# Adjust the x-axis range to match the length of loss_values_new\n",
    "plt.plot(range(1, len(loss_values_new) + 1), loss_values_new, marker='o', label='Training Loss New Data')\n",
    "plt.xlabel('Epoch')\n",
    "plt.ylabel('Loss')\n",
    "plt.title('Training Loss Over Epochs (New Data)')\n",
    "plt.legend()\n",
    "plt.grid(True)\n",
    "plt.show()\n",
    "\n"
   ]
  },
  {
   "cell_type": "code",
   "execution_count": 77,
   "id": "53f101de",
   "metadata": {},
   "outputs": [
    {
     "name": "stdout",
     "output_type": "stream",
     "text": [
      "Original: This is a test sentence to translate from English to German.\n",
      "Translation: Ein Mann in einem roten Hemd spielt.\n",
      "Original: How are you doing today?\n",
      "Translation: Ein Mann in einem roten Hemd spielt.\n",
      "Original: The weather is nice and sunny.\n",
      "Translation: Ein Mann in einem roten Hemd.\n",
      "Original: Can you help me with my homework?\n",
      "Translation: Ein Mann in einem roten Hemd.\n",
      "Original: I would like to book a table for two at your restaurant.\n",
      "Translation: Ein Mann in einem roten Hemd und ein Erwachsene.\n"
     ]
    }
   ],
   "source": [
    "def translate_text(model, tokenizer, text, max_length=50):\n",
    "    model.eval()  # Set the model to evaluation mode\n",
    "    inputs = tokenizer(text, return_tensors=\"pt\", padding=\"max_length\", truncation=True, max_length=max_length)\n",
    "    input_ids = inputs[\"input_ids\"].to(device)\n",
    "    attention_mask = inputs[\"attention_mask\"].to(device)\n",
    "\n",
    "    with torch.no_grad():  # No need to track the gradients\n",
    "        outputs = model.generate(\n",
    "            input_ids=input_ids,\n",
    "            attention_mask=attention_mask,\n",
    "            max_length=max_length,\n",
    "            num_beams=4,\n",
    "            early_stopping=True\n",
    "        )\n",
    "\n",
    "    translated_text = tokenizer.decode(outputs[0], skip_special_tokens=True)\n",
    "    return translated_text\n",
    "\n",
    "# Example usage\n",
    "example_texts = [\n",
    "    \"This is a test sentence to translate from English to German.\",\n",
    "    \"How are you doing today?\",\n",
    "    \"The weather is nice and sunny.\",\n",
    "    \"Can you help me with my homework?\",\n",
    "    \"I would like to book a table for two at your restaurant.\"\n",
    "]\n",
    "\n",
    "for example_text in example_texts:\n",
    "    translated_text = translate_text(model, tokenizer, example_text)\n",
    "    print(f\"Original: {example_text}\")\n",
    "    print(f\"Translation: {translated_text}\")\n"
   ]
  },
  {
   "cell_type": "code",
   "execution_count": 71,
   "id": "231fd1e9",
   "metadata": {},
   "outputs": [
    {
     "name": "stdout",
     "output_type": "stream",
     "text": [
      "Original: This is a test sentence to translate from English to German.\n",
      "Translation: Ein Mann in einem roten Hemd spielt.\n",
      "Original: How are you doing today?\n",
      "Translation: Ein Mann in einem roten Hemd spielt.\n"
     ]
    }
   ],
   "source": [
    "# Translation function\n",
    "def translate_text(model, tokenizer, text, max_length=50):\n",
    "    inputs = tokenizer(text, return_tensors=\"pt\", padding=\"max_length\", truncation=True, max_length=max_length)\n",
    "    input_ids = inputs[\"input_ids\"].to(device)\n",
    "    attention_mask = inputs[\"attention_mask\"].to(device)\n",
    "\n",
    "    model.eval()\n",
    "    with torch.no_grad():\n",
    "        outputs = model.generate(input_ids=input_ids, attention_mask=attention_mask, max_length=max_length, num_beams=4, early_stopping=True)\n",
    "\n",
    "    translated_text = tokenizer.decode(outputs[0], skip_special_tokens=True)\n",
    "    return translated_text\n",
    "\n",
    "# Example usage\n",
    "example_text = \"This is a test sentence to translate from English to German.\"\n",
    "translated_text = translate_text(model, tokenizer, example_text)\n",
    "print(f\"Original: {example_text}\")\n",
    "print(f\"Translation: {translated_text}\")\n",
    "\n",
    "example_text = \"How are you doing today?\"\n",
    "translated_text = translate_text(model, tokenizer, example_text)\n",
    "print(f\"Original: {example_text}\")\n",
    "print(f\"Translation: {translated_text}\")"
   ]
  },
  {
   "cell_type": "code",
   "execution_count": 69,
   "id": "737af27a",
   "metadata": {},
   "outputs": [
    {
     "name": "stdout",
     "output_type": "stream",
     "text": [
      "['Ein Mann in einem roten Hemden Hemd und ein Erwachsene.', 'Ein Mann in einem roten Hemd und ein Erwachsene.', 'Ein Mann in einem roten Hemd und ein Erwachsene.', 'Ein Mann in einem roten Hemd und ein Erwachsene.', 'Ein Mann in einem roten Hemd spielt.', 'Ein Mann in einem roten Hemd und ein Erwachsene.', 'Ein Mann in einem roten Hemd und ein Erwachsene.', 'Ein Mann in einem roten Hemden Hemd und ein Erwachsene.', 'Ein Mann in einem roten Hemd spielt.', 'Ein Mann in einem roten Hemd und ein Erwachsene.']\n"
     ]
    }
   ],
   "source": [
    "# Function to translate test sentences\n",
    "def translate_test_sentences(model, tokenizer, sentences, max_length=50):\n",
    "    translated_sentences = []\n",
    "    model.eval()\n",
    "    with torch.no_grad():\n",
    "        for sentence in sentences:\n",
    "            translated_sentence = translate_text(model, tokenizer, sentence, max_length)\n",
    "            translated_sentences.append(translated_sentence)\n",
    "    return translated_sentences\n",
    "\n",
    "# Load the test data\n",
    "test_file_path = 'test.en'\n",
    "\n",
    "with open(test_file_path, 'r', encoding='utf-8') as f:\n",
    "    test_sentences = f.readlines()\n",
    "\n",
    "output_translated = translate_test_sentences(model, tokenizer, test_sentences[:10])\n",
    "print(output_translated[:10])\n"
   ]
  },
  {
   "cell_type": "markdown",
   "id": "1446ef7c",
   "metadata": {},
   "source": [
    "https://pytorch.org/tutorials/intermediate/seq2seq_translation_tutorial.html\n",
    "\n",
    "pretty nice tutorial to learn."
   ]
  },
  {
   "cell_type": "code",
   "execution_count": 54,
   "id": "67d583fb",
   "metadata": {},
   "outputs": [
    {
     "name": "stdout",
     "output_type": "stream",
     "text": [
      "Original: A man in an orange hat starring at something.\n",
      "Translation: . Herr Präsident! Präsident! Präsident! Präsident! Präsident! Präsident! Präsident! Präsident! Präsident! Präsident! Präsident! Präsident! Präsident! Präsident! Präsident!\n"
     ]
    }
   ],
   "source": [
    "# my model works pretty bad.\n",
    "\n",
    "example_text = \"A man in an orange hat starring at something.\"\n",
    "translated_text = translate_text(model, tokenizer, example_text)\n",
    "print(f\"Original: {example_text}\")\n",
    "print(f\"Translation: {translated_text}\")\n"
   ]
  },
  {
   "cell_type": "code",
   "execution_count": 58,
   "id": "21be59fb",
   "metadata": {},
   "outputs": [
    {
     "name": "stderr",
     "output_type": "stream",
     "text": [
      "/var/folders/n2/v7krv3hd7f9_j02wpl4_74000000gn/T/ipykernel_16318/3310692086.py:8: UserWarning: 'has_mps' is deprecated, please use 'torch.backends.mps.is_built()'\n",
      "  device = torch.device('mps' if torch.has_mps else 'cpu')\n"
     ]
    },
    {
     "name": "stdout",
     "output_type": "stream",
     "text": [
      "Device: mps\n"
     ]
    },
    {
     "name": "stderr",
     "output_type": "stream",
     "text": [
      "Special tokens have been added in the vocabulary, make sure the associated word embeddings are fine-tuned or trained.\n"
     ]
    },
    {
     "name": "stdout",
     "output_type": "stream",
     "text": [
      "Loaded model weights from checkpoints_t5/t5_final_model.pt\n",
      "Input IDs: tensor([[   71,   388,    16,    46,  5470,     3,   547,     3, 22236,    44,\n",
      "           424,     5,     1,     0,     0,     0,     0,     0,     0,     0,\n",
      "             0,     0,     0,     0,     0,     0,     0,     0,     0,     0,\n",
      "             0,     0,     0,     0,     0,     0,     0,     0,     0,     0,\n",
      "             0,     0,     0,     0,     0,     0,     0,     0,     0,     0]],\n",
      "       device='mps:0')\n",
      "Attention Mask: tensor([[1, 1, 1, 1, 1, 1, 1, 1, 1, 1, 1, 1, 1, 0, 0, 0, 0, 0, 0, 0, 0, 0, 0, 0,\n",
      "         0, 0, 0, 0, 0, 0, 0, 0, 0, 0, 0, 0, 0, 0, 0, 0, 0, 0, 0, 0, 0, 0, 0, 0,\n",
      "         0, 0]], device='mps:0')\n",
      "Generated Tokens: tensor([[    0,     3,     5,  8816,     3, 20962,    55,     3, 20962,    55,\n",
      "             3, 20962,    55,     3, 20962,    55,     3, 20962,    55,     3,\n",
      "         20962,    55,     3, 20962,    55,     3, 20962,    55,     3, 20962,\n",
      "            55,     3, 20962,    55,     3, 20962,    55,     3, 20962,    55,\n",
      "             3, 20962,    55,     3, 20962,    55,     3, 20962,    55,     3]],\n",
      "       device='mps:0')\n",
      "Original: A man in an orange hat starring at something.\n",
      "Translation: . Herr Präsident! Präsident! Präsident! Präsident! Präsident! Präsident! Präsident! Präsident! Präsident! Präsident! Präsident! Präsident! Präsident! Präsident! Präsident!\n",
      "Input IDs: tensor([[   71,  5053, 17495,    49,    19,  1180,    30, 18127,  1442,  5956,\n",
      "            16,   851,    13,     3,     9,   872,  8227,     5,     1,     0,\n",
      "             0,     0,     0,     0,     0,     0,     0,     0,     0,     0,\n",
      "             0,     0,     0,     0,     0,     0,     0,     0,     0,     0,\n",
      "             0,     0,     0,     0,     0,     0,     0,     0,     0,     0]],\n",
      "       device='mps:0')\n",
      "Attention Mask: tensor([[1, 1, 1, 1, 1, 1, 1, 1, 1, 1, 1, 1, 1, 1, 1, 1, 1, 1, 1, 0, 0, 0, 0, 0,\n",
      "         0, 0, 0, 0, 0, 0, 0, 0, 0, 0, 0, 0, 0, 0, 0, 0, 0, 0, 0, 0, 0, 0, 0, 0,\n",
      "         0, 0]], device='mps:0')\n",
      "Generated Tokens: tensor([[    0,     3,     5,  8816,     3, 20962,    55,     3, 20962,    55,\n",
      "             3, 20962,    55,     3, 20962,    55,     3, 20962,    55,     3,\n",
      "         20962,    55,     3, 20962,    55,     3, 20962,    55,     3, 20962,\n",
      "            55,     3, 20962,    55,     3, 20962,    55,     3, 20962,    55,\n",
      "             3, 20962,    55,     3, 20962,    55,     3, 20962,    55,     3]],\n",
      "       device='mps:0')\n",
      "Original: A Boston Terrier is running on lush green grass in front of a white fence.\n",
      "Translation: . Herr Präsident! Präsident! Präsident! Präsident! Präsident! Präsident! Präsident! Präsident! Präsident! Präsident! Präsident! Präsident! Präsident! Präsident! Präsident!\n",
      "Input IDs: tensor([[  71, 3202,   16,    3, 4031,  342, 7117, 7814,    3,    9, 4372,   28,\n",
      "            3,    9,  851, 4583,    5,    1,    0,    0,    0,    0,    0,    0,\n",
      "            0,    0,    0,    0,    0,    0,    0,    0,    0,    0,    0,    0,\n",
      "            0,    0,    0,    0,    0,    0,    0,    0,    0,    0,    0,    0,\n",
      "            0,    0]], device='mps:0')\n",
      "Attention Mask: tensor([[1, 1, 1, 1, 1, 1, 1, 1, 1, 1, 1, 1, 1, 1, 1, 1, 1, 1, 0, 0, 0, 0, 0, 0,\n",
      "         0, 0, 0, 0, 0, 0, 0, 0, 0, 0, 0, 0, 0, 0, 0, 0, 0, 0, 0, 0, 0, 0, 0, 0,\n",
      "         0, 0]], device='mps:0')\n",
      "Generated Tokens: tensor([[    0,     3,     5,  8816,     3, 20962,    55,     3, 20962,    55,\n",
      "             3, 20962,    55,     3, 20962,    55,     3, 20962,    55,     3,\n",
      "         20962,    55,     3, 20962,    55,     3, 20962,    55,     3, 20962,\n",
      "            55,     3, 20962,    55,     3, 20962,    55,     3, 20962,    55,\n",
      "             3, 20962,    55,     3, 20962,    55,     3, 20962,    55,     3]],\n",
      "       device='mps:0')\n",
      "Original: A girl in karate uniform breaking a stick with a front kick.\n",
      "Translation: . Herr Präsident! Präsident! Präsident! Präsident! Präsident! Präsident! Präsident! Präsident! Präsident! Präsident! Präsident! Präsident! Präsident! Präsident! Präsident!\n",
      "Input IDs: tensor([[ 9528,   151,  5119,  2265,  8094,     7,    11, 18691,     7,  1518,\n",
      "            16,     8,  2983,     6,    28,  2983, 14814,     7,    16,     8,\n",
      "          2458,     5,     1,     0,     0,     0,     0,     0,     0,     0,\n",
      "             0,     0,     0,     0,     0,     0,     0,     0,     0,     0,\n",
      "             0,     0,     0,     0,     0,     0,     0,     0,     0,     0]],\n",
      "       device='mps:0')\n",
      "Attention Mask: tensor([[1, 1, 1, 1, 1, 1, 1, 1, 1, 1, 1, 1, 1, 1, 1, 1, 1, 1, 1, 1, 1, 1, 1, 0,\n",
      "         0, 0, 0, 0, 0, 0, 0, 0, 0, 0, 0, 0, 0, 0, 0, 0, 0, 0, 0, 0, 0, 0, 0, 0,\n",
      "         0, 0]], device='mps:0')\n",
      "Generated Tokens: tensor([[    0,     3,     5,  8816,     3, 20962,    55,     3, 20962,    55,\n",
      "             3, 20962,    55,     3, 20962,    55,     3, 20962,    55,     3,\n",
      "         20962,    55,     3, 20962,    55,     3, 20962,    55,     3, 20962,\n",
      "            55,     3, 20962,    55,     3, 20962,    55,     3, 20962,    55,\n",
      "             3, 20962,    55,     3, 20962,    55,     3, 20962,    55,     3]],\n",
      "       device='mps:0')\n",
      "Original: Five people wearing winter jackets and helmets stand in the snow, with snowmobiles in the background.\n",
      "Translation: . Herr Präsident! Präsident! Präsident! Präsident! Präsident! Präsident! Präsident! Präsident! Präsident! Präsident! Präsident! Präsident! Präsident! Präsident! Präsident!\n",
      "Input IDs: tensor([[ 2449,    33, 16618,     8,  2955,    13,     3,     9,   629,     5,\n",
      "             1,     0,     0,     0,     0,     0,     0,     0,     0,     0,\n",
      "             0,     0,     0,     0,     0,     0,     0,     0,     0,     0,\n",
      "             0,     0,     0,     0,     0,     0,     0,     0,     0,     0,\n",
      "             0,     0,     0,     0,     0,     0,     0,     0,     0,     0]],\n",
      "       device='mps:0')\n",
      "Attention Mask: tensor([[1, 1, 1, 1, 1, 1, 1, 1, 1, 1, 1, 0, 0, 0, 0, 0, 0, 0, 0, 0, 0, 0, 0, 0,\n",
      "         0, 0, 0, 0, 0, 0, 0, 0, 0, 0, 0, 0, 0, 0, 0, 0, 0, 0, 0, 0, 0, 0, 0, 0,\n",
      "         0, 0]], device='mps:0')\n",
      "Generated Tokens: tensor([[    0,     3,     5,  8816,     3, 20962,    55,     3, 20962,    55,\n",
      "             3, 20962,    55,     3, 20962,    55,     3, 20962,    55,     3,\n",
      "         20962,    55,     3, 20962,    55,     3, 20962,    55,     3, 20962,\n",
      "            55,     3, 20962,    55,     3, 20962,    55,     3, 20962,    55,\n",
      "             3, 20962,    55,     3, 20962,    55,     3, 20962,    55,     3]],\n",
      "       device='mps:0')\n",
      "Original: People are fixing the roof of a house.\n",
      "Translation: . Herr Präsident! Präsident! Präsident! Präsident! Präsident! Präsident! Präsident! Präsident! Präsident! Präsident! Präsident! Präsident! Präsident! Präsident! Präsident!\n",
      "Input IDs: tensor([[   71,   388,    16,   659, 11999,  5698,  7194,     3,     9,   563,\n",
      "            13,  1076,  5119,  2164, 11246,    11,     3,   547,     7,  4125,\n",
      "           300,     3,     9,  2335, 13205,    16,     3,     9,  9205,   924,\n",
      "         19879,     5,     1,     0,     0,     0,     0,     0,     0,     0,\n",
      "             0,     0,     0,     0,     0,     0,     0,     0,     0,     0]],\n",
      "       device='mps:0')\n",
      "Attention Mask: tensor([[1, 1, 1, 1, 1, 1, 1, 1, 1, 1, 1, 1, 1, 1, 1, 1, 1, 1, 1, 1, 1, 1, 1, 1,\n",
      "         1, 1, 1, 1, 1, 1, 1, 1, 1, 0, 0, 0, 0, 0, 0, 0, 0, 0, 0, 0, 0, 0, 0, 0,\n",
      "         0, 0]], device='mps:0')\n",
      "Generated Tokens: tensor([[    0,     3,     5,  8816,     3, 20962,    55,     3, 20962,    55,\n",
      "             3, 20962,    55,     3, 20962,    55,     3, 20962,    55,     3,\n",
      "         20962,    55,     3, 20962,    55,     3, 20962,    55,     3, 20962,\n",
      "            55,     3, 20962,    55,     3, 20962,    55,     3, 20962,    55,\n",
      "             3, 20962,    55,     3, 20962,    55,     3, 20962,    55,     3]],\n",
      "       device='mps:0')\n",
      "Input IDs: tensor([[  71,  563,   13,  151, 4125,   16,  851,   13,   46,    3,   23, 9680,\n",
      "           32,    5,    1,    0,    0,    0,    0,    0,    0,    0,    0,    0,\n",
      "            0,    0,    0,    0,    0,    0,    0,    0,    0,    0,    0,    0,\n",
      "            0,    0,    0,    0,    0,    0,    0,    0,    0,    0,    0,    0,\n",
      "            0,    0]], device='mps:0')\n",
      "Attention Mask: tensor([[1, 1, 1, 1, 1, 1, 1, 1, 1, 1, 1, 1, 1, 1, 1, 0, 0, 0, 0, 0, 0, 0, 0, 0,\n",
      "         0, 0, 0, 0, 0, 0, 0, 0, 0, 0, 0, 0, 0, 0, 0, 0, 0, 0, 0, 0, 0, 0, 0, 0,\n",
      "         0, 0]], device='mps:0')\n",
      "Generated Tokens: tensor([[    0,     3,     5,  8816,     3, 20962,    55,     3, 20962,    55,\n",
      "             3, 20962,    55,     3, 20962,    55,     3, 20962,    55,     3,\n",
      "         20962,    55,     3, 20962,    55,     3, 20962,    55,     3, 20962,\n",
      "            55,     3, 20962,    55,     3, 20962,    55,     3, 20962,    55,\n",
      "             3, 20962,    55,     3, 20962,    55,     3, 20962,    55,     3]],\n",
      "       device='mps:0')\n",
      "Input IDs: tensor([[   71,  4940,    16,     3,     9,  1131,  7117,    19,     3, 12663,\n",
      "            12,  1792,   652,    91,    44,   234,  3829,     6,   298,     8,\n",
      "             3, 27073,    16,     8,  1692,  7117,    19,     3, 12663,    12,\n",
      "          3579,   376,     5,     1,     0,     0,     0,     0,     0,     0,\n",
      "             0,     0,     0,     0,     0,     0,     0,     0,     0,     0]],\n",
      "       device='mps:0')\n",
      "Attention Mask: tensor([[1, 1, 1, 1, 1, 1, 1, 1, 1, 1, 1, 1, 1, 1, 1, 1, 1, 1, 1, 1, 1, 1, 1, 1,\n",
      "         1, 1, 1, 1, 1, 1, 1, 1, 1, 1, 0, 0, 0, 0, 0, 0, 0, 0, 0, 0, 0, 0, 0, 0,\n",
      "         0, 0]], device='mps:0')\n",
      "Generated Tokens: tensor([[    0,  1674,  6509,     3,    15,     7,     6,   602,    67,  5837,\n",
      "         11502,   291,  4130,     5,     1]], device='mps:0')\n",
      "Input IDs: tensor([[  71, 4024,  930,   30,    3,    9,  740,    5,    1,    0,    0,    0,\n",
      "            0,    0,    0,    0,    0,    0,    0,    0,    0,    0,    0,    0,\n",
      "            0,    0,    0,    0,    0,    0,    0,    0,    0,    0,    0,    0,\n",
      "            0,    0,    0,    0,    0,    0,    0,    0,    0,    0,    0,    0,\n",
      "            0,    0]], device='mps:0')\n",
      "Attention Mask: tensor([[1, 1, 1, 1, 1, 1, 1, 1, 1, 0, 0, 0, 0, 0, 0, 0, 0, 0, 0, 0, 0, 0, 0, 0,\n",
      "         0, 0, 0, 0, 0, 0, 0, 0, 0, 0, 0, 0, 0, 0, 0, 0, 0, 0, 0, 0, 0, 0, 0, 0,\n",
      "         0, 0]], device='mps:0')\n",
      "Generated Tokens: tensor([[    0,     3,     5,  8816,     3, 20962,    55,     3, 20962,    55,\n",
      "             3, 20962,    55,     3, 20962,    55,     3, 20962,    55,     3,\n",
      "         20962,    55,     3, 20962,    55,     3, 20962,    55,     3, 20962,\n",
      "            55,     3, 20962,    55,     3, 20962,    55,     3, 20962,    55,\n",
      "             3, 20962,    55,     3, 20962,    55,     3, 20962,    55,     3]],\n",
      "       device='mps:0')\n",
      "Input IDs: tensor([[   71,   388,    16,     3,     9, 12646,    19,  3823,    16,     3,\n",
      "             9,  3533,    11,  3609, 13254,     5,     1,     0,     0,     0,\n",
      "             0,     0,     0,     0,     0,     0,     0,     0,     0,     0,\n",
      "             0,     0,     0,     0,     0,     0,     0,     0,     0,     0,\n",
      "             0,     0,     0,     0,     0,     0,     0,     0,     0,     0]],\n",
      "       device='mps:0')\n",
      "Attention Mask: tensor([[1, 1, 1, 1, 1, 1, 1, 1, 1, 1, 1, 1, 1, 1, 1, 1, 1, 0, 0, 0, 0, 0, 0, 0,\n",
      "         0, 0, 0, 0, 0, 0, 0, 0, 0, 0, 0, 0, 0, 0, 0, 0, 0, 0, 0, 0, 0, 0, 0, 0,\n",
      "         0, 0]], device='mps:0')\n",
      "Generated Tokens: tensor([[    0,     3,     5,  8816,     3, 20962,    55,     3, 20962,    55,\n",
      "             3, 20962,    55,     3, 20962,    55,     3, 20962,    55,     3,\n",
      "         20962,    55,     1]], device='mps:0')\n"
     ]
    }
   ],
   "source": [
    "# i want to find the problem with the model\n",
    "\n",
    "import torch\n",
    "from transformers import T5Tokenizer, T5ForConditionalGeneration\n",
    "import os\n",
    "\n",
    "# Set device\n",
    "device = torch.device('mps' if torch.has_mps else 'cpu')\n",
    "print(f'Device: {device}')\n",
    "\n",
    "# Load T5 tokenizer and model architecture (no weights loaded yet)\n",
    "model_name = 't5-small'\n",
    "tokenizer = T5Tokenizer.from_pretrained(model_name)\n",
    "model = T5ForConditionalGeneration.from_pretrained(model_name).to(device)\n",
    "\n",
    "# Load the fine-tuned model weights\n",
    "checkpoint_dir = 'checkpoints_t5'\n",
    "final_model_path = os.path.join(checkpoint_dir, 't5_final_model.pt')\n",
    "if os.path.exists(final_model_path):\n",
    "    model.load_state_dict(torch.load(final_model_path, map_location=device))  # Loading your fine-tuned weights\n",
    "    print(f'Loaded model weights from {final_model_path}')\n",
    "else:\n",
    "    print(f'No checkpoint found at {final_model_path}. Ensure the path is correct.')\n",
    "\n",
    "# Function to translate test sentences\n",
    "def translate_test_sentences(model, tokenizer, sentences, max_length=50):\n",
    "    translated_sentences = []\n",
    "    model.eval()\n",
    "    with torch.no_grad():\n",
    "        for i, sentence in enumerate(sentences):\n",
    "            inputs = tokenizer(sentence, return_tensors=\"pt\", padding=\"max_length\", truncation=True, max_length=max_length)\n",
    "            input_ids = inputs[\"input_ids\"].to(device)\n",
    "            attention_mask = inputs[\"attention_mask\"].to(device)\n",
    "\n",
    "            print(f\"Input IDs: {input_ids}\")\n",
    "            print(f\"Attention Mask: {attention_mask}\")\n",
    "\n",
    "            outputs = model.generate(input_ids=input_ids, attention_mask=attention_mask, max_length=max_length, num_beams=4, early_stopping=True)\n",
    "            print(f\"Generated Tokens: {outputs}\")\n",
    "\n",
    "            translated_text = tokenizer.decode(outputs[0], skip_special_tokens=True)\n",
    "            translated_sentences.append(translated_text)\n",
    "            \n",
    "            # Print the first 5 translations\n",
    "            if i < 5:\n",
    "                print(f\"Original: {sentence.strip()}\")\n",
    "                print(f\"Translation: {translated_text}\")\n",
    "\n",
    "    return translated_sentences\n",
    "\n",
    "# Load the test data\n",
    "test_file_path = 'test.en'\n",
    "\n",
    "with open(test_file_path, 'r', encoding='utf-8') as f:\n",
    "    test_sentences = f.readlines()\n",
    "\n",
    "# Translate the test sentences and print the first few translations\n",
    "translated_test_sentences = translate_test_sentences(model, tokenizer, test_sentences[:10])\n"
   ]
  },
  {
   "cell_type": "code",
   "execution_count": 61,
   "id": "1f3f54fb",
   "metadata": {},
   "outputs": [
    {
     "name": "stdout",
     "output_type": "stream",
     "text": [
      "Device: mps\n"
     ]
    },
    {
     "name": "stderr",
     "output_type": "stream",
     "text": [
      "Special tokens have been added in the vocabulary, make sure the associated word embeddings are fine-tuned or trained.\n"
     ]
    },
    {
     "name": "stdout",
     "output_type": "stream",
     "text": [
      "Loaded model weights from checkpoints_t5/t5_final_model.pt\n",
      "Input IDs: tensor([[   71,   388,    16,    46,  5470,     3,   547,     3, 22236,    44,\n",
      "           424,     5,     1,     0,     0,     0,     0,     0,     0,     0,\n",
      "             0,     0,     0,     0,     0,     0,     0,     0,     0,     0,\n",
      "             0,     0,     0,     0,     0,     0,     0,     0,     0,     0,\n",
      "             0,     0,     0,     0,     0,     0,     0,     0,     0,     0]],\n",
      "       device='mps:0')\n",
      "Attention Mask: tensor([[1, 1, 1, 1, 1, 1, 1, 1, 1, 1, 1, 1, 1, 0, 0, 0, 0, 0, 0, 0, 0, 0, 0, 0,\n",
      "         0, 0, 0, 0, 0, 0, 0, 0, 0, 0, 0, 0, 0, 0, 0, 0, 0, 0, 0, 0, 0, 0, 0, 0,\n",
      "         0, 0]], device='mps:0')\n",
      "Generated Tokens: tensor([[    0,     3,     5,  8816,     3, 20962,    55,     3, 20962,    55,\n",
      "             3, 20962,    55,     3, 20962,    55,     3, 20962,    55,     3,\n",
      "         20962,    55,     3, 20962,    55,     3, 20962,    55,     3, 20962,\n",
      "            55,     3, 20962,    55,     3, 20962,    55,     3, 20962,    55,\n",
      "             3, 20962,    55,     3, 20962,    55,     3, 20962,    55,     3]],\n",
      "       device='mps:0')\n",
      "Original: A man in an orange hat starring at something.\n",
      "Translation: . Herr Präsident! Präsident! Präsident! Präsident! Präsident! Präsident! Präsident! Präsident! Präsident! Präsident! Präsident! Präsident! Präsident! Präsident! Präsident!\n",
      "Input IDs: tensor([[   71,  5053, 17495,    49,    19,  1180,    30, 18127,  1442,  5956,\n",
      "            16,   851,    13,     3,     9,   872,  8227,     5,     1,     0,\n",
      "             0,     0,     0,     0,     0,     0,     0,     0,     0,     0,\n",
      "             0,     0,     0,     0,     0,     0,     0,     0,     0,     0,\n",
      "             0,     0,     0,     0,     0,     0,     0,     0,     0,     0]],\n",
      "       device='mps:0')\n",
      "Attention Mask: tensor([[1, 1, 1, 1, 1, 1, 1, 1, 1, 1, 1, 1, 1, 1, 1, 1, 1, 1, 1, 0, 0, 0, 0, 0,\n",
      "         0, 0, 0, 0, 0, 0, 0, 0, 0, 0, 0, 0, 0, 0, 0, 0, 0, 0, 0, 0, 0, 0, 0, 0,\n",
      "         0, 0]], device='mps:0')\n",
      "Generated Tokens: tensor([[    0,     3,     5,  8816,     3, 20962,    55,     3, 20962,    55,\n",
      "             3, 20962,    55,     3, 20962,    55,     3, 20962,    55,     3,\n",
      "         20962,    55,     3, 20962,    55,     3, 20962,    55,     3, 20962,\n",
      "            55,     3, 20962,    55,     3, 20962,    55,     3, 20962,    55,\n",
      "             3, 20962,    55,     3, 20962,    55,     3, 20962,    55,     3]],\n",
      "       device='mps:0')\n",
      "Original: A Boston Terrier is running on lush green grass in front of a white fence.\n",
      "Translation: . Herr Präsident! Präsident! Präsident! Präsident! Präsident! Präsident! Präsident! Präsident! Präsident! Präsident! Präsident! Präsident! Präsident! Präsident! Präsident!\n",
      "Input IDs: tensor([[  71, 3202,   16,    3, 4031,  342, 7117, 7814,    3,    9, 4372,   28,\n",
      "            3,    9,  851, 4583,    5,    1,    0,    0,    0,    0,    0,    0,\n",
      "            0,    0,    0,    0,    0,    0,    0,    0,    0,    0,    0,    0,\n",
      "            0,    0,    0,    0,    0,    0,    0,    0,    0,    0,    0,    0,\n",
      "            0,    0]], device='mps:0')\n",
      "Attention Mask: tensor([[1, 1, 1, 1, 1, 1, 1, 1, 1, 1, 1, 1, 1, 1, 1, 1, 1, 1, 0, 0, 0, 0, 0, 0,\n",
      "         0, 0, 0, 0, 0, 0, 0, 0, 0, 0, 0, 0, 0, 0, 0, 0, 0, 0, 0, 0, 0, 0, 0, 0,\n",
      "         0, 0]], device='mps:0')\n",
      "Generated Tokens: tensor([[    0,     3,     5,  8816,     3, 20962,    55,     3, 20962,    55,\n",
      "             3, 20962,    55,     3, 20962,    55,     3, 20962,    55,     3,\n",
      "         20962,    55,     3, 20962,    55,     3, 20962,    55,     3, 20962,\n",
      "            55,     3, 20962,    55,     3, 20962,    55,     3, 20962,    55,\n",
      "             3, 20962,    55,     3, 20962,    55,     3, 20962,    55,     3]],\n",
      "       device='mps:0')\n",
      "Original: A girl in karate uniform breaking a stick with a front kick.\n",
      "Translation: . Herr Präsident! Präsident! Präsident! Präsident! Präsident! Präsident! Präsident! Präsident! Präsident! Präsident! Präsident! Präsident! Präsident! Präsident! Präsident!\n",
      "Input IDs: tensor([[ 9528,   151,  5119,  2265,  8094,     7,    11, 18691,     7,  1518,\n",
      "            16,     8,  2983,     6,    28,  2983, 14814,     7,    16,     8,\n",
      "          2458,     5,     1,     0,     0,     0,     0,     0,     0,     0,\n",
      "             0,     0,     0,     0,     0,     0,     0,     0,     0,     0,\n",
      "             0,     0,     0,     0,     0,     0,     0,     0,     0,     0]],\n",
      "       device='mps:0')\n",
      "Attention Mask: tensor([[1, 1, 1, 1, 1, 1, 1, 1, 1, 1, 1, 1, 1, 1, 1, 1, 1, 1, 1, 1, 1, 1, 1, 0,\n",
      "         0, 0, 0, 0, 0, 0, 0, 0, 0, 0, 0, 0, 0, 0, 0, 0, 0, 0, 0, 0, 0, 0, 0, 0,\n",
      "         0, 0]], device='mps:0')\n",
      "Generated Tokens: tensor([[    0,     3,     5,  8816,     3, 20962,    55,     3, 20962,    55,\n",
      "             3, 20962,    55,     3, 20962,    55,     3, 20962,    55,     3,\n",
      "         20962,    55,     3, 20962,    55,     3, 20962,    55,     3, 20962,\n",
      "            55,     3, 20962,    55,     3, 20962,    55,     3, 20962,    55,\n",
      "             3, 20962,    55,     3, 20962,    55,     3, 20962,    55,     3]],\n",
      "       device='mps:0')\n",
      "Original: Five people wearing winter jackets and helmets stand in the snow, with snowmobiles in the background.\n",
      "Translation: . Herr Präsident! Präsident! Präsident! Präsident! Präsident! Präsident! Präsident! Präsident! Präsident! Präsident! Präsident! Präsident! Präsident! Präsident! Präsident!\n",
      "Input IDs: tensor([[ 2449,    33, 16618,     8,  2955,    13,     3,     9,   629,     5,\n",
      "             1,     0,     0,     0,     0,     0,     0,     0,     0,     0,\n",
      "             0,     0,     0,     0,     0,     0,     0,     0,     0,     0,\n",
      "             0,     0,     0,     0,     0,     0,     0,     0,     0,     0,\n",
      "             0,     0,     0,     0,     0,     0,     0,     0,     0,     0]],\n",
      "       device='mps:0')\n",
      "Attention Mask: tensor([[1, 1, 1, 1, 1, 1, 1, 1, 1, 1, 1, 0, 0, 0, 0, 0, 0, 0, 0, 0, 0, 0, 0, 0,\n",
      "         0, 0, 0, 0, 0, 0, 0, 0, 0, 0, 0, 0, 0, 0, 0, 0, 0, 0, 0, 0, 0, 0, 0, 0,\n",
      "         0, 0]], device='mps:0')\n",
      "Generated Tokens: tensor([[    0,     3,     5,  8816,     3, 20962,    55,     3, 20962,    55,\n",
      "             3, 20962,    55,     3, 20962,    55,     3, 20962,    55,     3,\n",
      "         20962,    55,     3, 20962,    55,     3, 20962,    55,     3, 20962,\n",
      "            55,     3, 20962,    55,     3, 20962,    55,     3, 20962,    55,\n",
      "             3, 20962,    55,     3, 20962,    55,     3, 20962,    55,     3]],\n",
      "       device='mps:0')\n",
      "Original: People are fixing the roof of a house.\n",
      "Translation: . Herr Präsident! Präsident! Präsident! Präsident! Präsident! Präsident! Präsident! Präsident! Präsident! Präsident! Präsident! Präsident! Präsident! Präsident! Präsident!\n",
      "Input IDs: tensor([[   71,   388,    16,   659, 11999,  5698,  7194,     3,     9,   563,\n",
      "            13,  1076,  5119,  2164, 11246,    11,     3,   547,     7,  4125,\n",
      "           300,     3,     9,  2335, 13205,    16,     3,     9,  9205,   924,\n",
      "         19879,     5,     1,     0,     0,     0,     0,     0,     0,     0,\n",
      "             0,     0,     0,     0,     0,     0,     0,     0,     0,     0]],\n",
      "       device='mps:0')\n",
      "Attention Mask: tensor([[1, 1, 1, 1, 1, 1, 1, 1, 1, 1, 1, 1, 1, 1, 1, 1, 1, 1, 1, 1, 1, 1, 1, 1,\n",
      "         1, 1, 1, 1, 1, 1, 1, 1, 1, 0, 0, 0, 0, 0, 0, 0, 0, 0, 0, 0, 0, 0, 0, 0,\n",
      "         0, 0]], device='mps:0')\n",
      "Generated Tokens: tensor([[    0,     3,     5,  8816,     3, 20962,    55,     3, 20962,    55,\n",
      "             3, 20962,    55,     3, 20962,    55,     3, 20962,    55,     3,\n",
      "         20962,    55,     3, 20962,    55,     3, 20962,    55,     3, 20962,\n",
      "            55,     3, 20962,    55,     3, 20962,    55,     3, 20962,    55,\n",
      "             3, 20962,    55,     3, 20962,    55,     3, 20962,    55,     3]],\n",
      "       device='mps:0')\n",
      "Original: A man in light colored clothing photographs a group of men wearing dark suits and hats standing around a woman dressed in a strapless gown.\n",
      "Translation: . Herr Präsident! Präsident! Präsident! Präsident! Präsident! Präsident! Präsident! Präsident! Präsident! Präsident! Präsident! Präsident! Präsident! Präsident! Präsident!\n",
      "Input IDs: tensor([[  71,  563,   13,  151, 4125,   16,  851,   13,   46,    3,   23, 9680,\n",
      "           32,    5,    1,    0,    0,    0,    0,    0,    0,    0,    0,    0,\n",
      "            0,    0,    0,    0,    0,    0,    0,    0,    0,    0,    0,    0,\n",
      "            0,    0,    0,    0,    0,    0,    0,    0,    0,    0,    0,    0,\n",
      "            0,    0]], device='mps:0')\n",
      "Attention Mask: tensor([[1, 1, 1, 1, 1, 1, 1, 1, 1, 1, 1, 1, 1, 1, 1, 0, 0, 0, 0, 0, 0, 0, 0, 0,\n",
      "         0, 0, 0, 0, 0, 0, 0, 0, 0, 0, 0, 0, 0, 0, 0, 0, 0, 0, 0, 0, 0, 0, 0, 0,\n",
      "         0, 0]], device='mps:0')\n",
      "Generated Tokens: tensor([[    0,     3,     5,  8816,     3, 20962,    55,     3, 20962,    55,\n",
      "             3, 20962,    55,     3, 20962,    55,     3, 20962,    55,     3,\n",
      "         20962,    55,     3, 20962,    55,     3, 20962,    55,     3, 20962,\n",
      "            55,     3, 20962,    55,     3, 20962,    55,     3, 20962,    55,\n",
      "             3, 20962,    55,     3, 20962,    55,     3, 20962,    55,     3]],\n",
      "       device='mps:0')\n",
      "Original: A group of people standing in front of an igloo.\n",
      "Translation: . Herr Präsident! Präsident! Präsident! Präsident! Präsident! Präsident! Präsident! Präsident! Präsident! Präsident! Präsident! Präsident! Präsident! Präsident! Präsident!\n",
      "Input IDs: tensor([[   71,  4940,    16,     3,     9,  1131,  7117,    19,     3, 12663,\n",
      "            12,  1792,   652,    91,    44,   234,  3829,     6,   298,     8,\n",
      "             3, 27073,    16,     8,  1692,  7117,    19,     3, 12663,    12,\n",
      "          3579,   376,     5,     1,     0,     0,     0,     0,     0,     0,\n",
      "             0,     0,     0,     0,     0,     0,     0,     0,     0,     0]],\n",
      "       device='mps:0')\n",
      "Attention Mask: tensor([[1, 1, 1, 1, 1, 1, 1, 1, 1, 1, 1, 1, 1, 1, 1, 1, 1, 1, 1, 1, 1, 1, 1, 1,\n",
      "         1, 1, 1, 1, 1, 1, 1, 1, 1, 1, 0, 0, 0, 0, 0, 0, 0, 0, 0, 0, 0, 0, 0, 0,\n",
      "         0, 0]], device='mps:0')\n",
      "Generated Tokens: tensor([[    0,  1674,  6509,     3,    15,     7,     6,   602,    67,  5837,\n",
      "         11502,   291,  4130,     5,     1]], device='mps:0')\n",
      "Original: A boy in a red uniform is attempting to avoid getting out at home plate, while the catcher in the blue uniform is attempting to catch him.\n",
      "Translation: Ich möchte es, dass die Kommissarität.\n",
      "Input IDs: tensor([[  71, 4024,  930,   30,    3,    9,  740,    5,    1,    0,    0,    0,\n",
      "            0,    0,    0,    0,    0,    0,    0,    0,    0,    0,    0,    0,\n",
      "            0,    0,    0,    0,    0,    0,    0,    0,    0,    0,    0,    0,\n",
      "            0,    0,    0,    0,    0,    0,    0,    0,    0,    0,    0,    0,\n",
      "            0,    0]], device='mps:0')\n",
      "Attention Mask: tensor([[1, 1, 1, 1, 1, 1, 1, 1, 1, 0, 0, 0, 0, 0, 0, 0, 0, 0, 0, 0, 0, 0, 0, 0,\n",
      "         0, 0, 0, 0, 0, 0, 0, 0, 0, 0, 0, 0, 0, 0, 0, 0, 0, 0, 0, 0, 0, 0, 0, 0,\n",
      "         0, 0]], device='mps:0')\n",
      "Generated Tokens: tensor([[    0,     3,     5,  8816,     3, 20962,    55,     3, 20962,    55,\n",
      "             3, 20962,    55,     3, 20962,    55,     3, 20962,    55,     3,\n",
      "         20962,    55,     3, 20962,    55,     3, 20962,    55,     3, 20962,\n",
      "            55,     3, 20962,    55,     3, 20962,    55,     3, 20962,    55,\n",
      "             3, 20962,    55,     3, 20962,    55,     3, 20962,    55,     3]],\n",
      "       device='mps:0')\n",
      "Original: A guy works on a building.\n",
      "Translation: . Herr Präsident! Präsident! Präsident! Präsident! Präsident! Präsident! Präsident! Präsident! Präsident! Präsident! Präsident! Präsident! Präsident! Präsident! Präsident!\n",
      "Input IDs: tensor([[   71,   388,    16,     3,     9, 12646,    19,  3823,    16,     3,\n",
      "             9,  3533,    11,  3609, 13254,     5,     1,     0,     0,     0,\n",
      "             0,     0,     0,     0,     0,     0,     0,     0,     0,     0,\n",
      "             0,     0,     0,     0,     0,     0,     0,     0,     0,     0,\n",
      "             0,     0,     0,     0,     0,     0,     0,     0,     0,     0]],\n",
      "       device='mps:0')\n",
      "Attention Mask: tensor([[1, 1, 1, 1, 1, 1, 1, 1, 1, 1, 1, 1, 1, 1, 1, 1, 1, 0, 0, 0, 0, 0, 0, 0,\n",
      "         0, 0, 0, 0, 0, 0, 0, 0, 0, 0, 0, 0, 0, 0, 0, 0, 0, 0, 0, 0, 0, 0, 0, 0,\n",
      "         0, 0]], device='mps:0')\n",
      "Generated Tokens: tensor([[    0,     3,     5,  8816,     3, 20962,    55,     3, 20962,    55,\n",
      "             3, 20962,    55,     3, 20962,    55,     3, 20962,    55,     3,\n",
      "         20962,    55,     1]], device='mps:0')\n",
      "Original: A man in a vest is sitting in a chair and holding magazines.\n",
      "Translation: . Herr Präsident! Präsident! Präsident! Präsident! Präsident! Präsident!\n"
     ]
    }
   ],
   "source": [
    "import torch\n",
    "from transformers import T5Tokenizer, T5ForConditionalGeneration\n",
    "import os\n",
    "\n",
    "# Set device\n",
    "device = torch.device('mps' if torch.backends.mps.is_built() else 'cpu')\n",
    "print(f'Device: {device}')\n",
    "\n",
    "# Load T5 tokenizer and model architecture (no weights loaded yet)\n",
    "model_name = 't5-small'\n",
    "tokenizer = T5Tokenizer.from_pretrained(model_name)\n",
    "model = T5ForConditionalGeneration.from_pretrained(model_name).to(device)\n",
    "\n",
    "# Load the fine-tuned model weights\n",
    "checkpoint_dir = 'checkpoints_t5'\n",
    "final_model_path = os.path.join(checkpoint_dir, 't5_final_model.pt')\n",
    "if os.path.exists(final_model_path):\n",
    "    model.load_state_dict(torch.load(final_model_path, map_location=device))  # Loading your fine-tuned weights\n",
    "    print(f'Loaded model weights from {final_model_path}')\n",
    "else:\n",
    "    print(f'No checkpoint found at {final_model_path}. Ensure the path is correct.')\n",
    "\n",
    "# Function to translate test sentences\n",
    "def translate_test_sentences(model, tokenizer, sentences, max_length=50):\n",
    "    translated_sentences = []\n",
    "    model.eval()\n",
    "    with torch.no_grad():\n",
    "        for i, sentence in enumerate(sentences):\n",
    "            inputs = tokenizer(sentence, return_tensors=\"pt\", padding=\"max_length\", truncation=True, max_length=max_length)\n",
    "            input_ids = inputs[\"input_ids\"].to(device)\n",
    "            attention_mask = inputs[\"attention_mask\"].to(device)\n",
    "\n",
    "            print(f\"Input IDs: {input_ids}\")\n",
    "            print(f\"Attention Mask: {attention_mask}\")\n",
    "\n",
    "            outputs = model.generate(input_ids=input_ids, attention_mask=attention_mask, max_length=max_length, num_beams=4, early_stopping=True)\n",
    "            print(f\"Generated Tokens: {outputs}\")\n",
    "\n",
    "            translated_text = tokenizer.decode(outputs[0], skip_special_tokens=True)\n",
    "            translated_sentences.append(translated_text)\n",
    "            \n",
    "            # Print the first 10 translations\n",
    "            if i < 10:\n",
    "                print(f\"Original: {sentence.strip()}\")\n",
    "                print(f\"Translation: {translated_text}\")\n",
    "\n",
    "    return translated_sentences\n",
    "\n",
    "# Load the test data\n",
    "test_file_path = 'test.en'\n",
    "\n",
    "with open(test_file_path, 'r', encoding='utf-8') as f:\n",
    "    test_sentences = f.readlines()\n",
    "\n",
    "# Translate the test sentences and print the first few translations\n",
    "translated_test_sentences = translate_test_sentences(model, tokenizer, test_sentences[:10])\n"
   ]
  },
  {
   "cell_type": "code",
   "execution_count": 73,
   "id": "0b658608",
   "metadata": {},
   "outputs": [],
   "source": [
    "# Could not find the problem with my model ;(("
   ]
  }
 ],
 "metadata": {
  "kernelspec": {
   "display_name": "Python 3 (ipykernel)",
   "language": "python",
   "name": "python3"
  },
  "language_info": {
   "codemirror_mode": {
    "name": "ipython",
    "version": 3
   },
   "file_extension": ".py",
   "mimetype": "text/x-python",
   "name": "python",
   "nbconvert_exporter": "python",
   "pygments_lexer": "ipython3",
   "version": "3.11.7"
  }
 },
 "nbformat": 4,
 "nbformat_minor": 5
}
